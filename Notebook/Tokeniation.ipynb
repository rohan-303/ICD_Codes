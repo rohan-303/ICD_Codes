{
 "cells": [
  {
   "cell_type": "code",
   "execution_count": 3,
   "metadata": {},
   "outputs": [],
   "source": [
    "import pandas as pd\n",
    "from tokenizers import Tokenizer\n",
    "from tokenizers.models import BPE\n",
    "from tokenizers.trainers import BpeTrainer\n",
    "from tokenizers.pre_tokenizers import Whitespace\n",
    "from tokenizers.processors import TemplateProcessing"
   ]
  },
  {
   "cell_type": "code",
   "execution_count": 4,
   "metadata": {},
   "outputs": [],
   "source": [
    "df = pd.read_csv(\"/home/careinfolab/Dr_Luo/Rohan/ICD_Codes/Dataset/icd10-codes-and-descriptions/Codes&Desc_cleaned.csv\")"
   ]
  },
  {
   "cell_type": "code",
   "execution_count": 5,
   "metadata": {},
   "outputs": [
    {
     "data": {
      "text/html": [
       "<div>\n",
       "<style scoped>\n",
       "    .dataframe tbody tr th:only-of-type {\n",
       "        vertical-align: middle;\n",
       "    }\n",
       "\n",
       "    .dataframe tbody tr th {\n",
       "        vertical-align: top;\n",
       "    }\n",
       "\n",
       "    .dataframe thead th {\n",
       "        text-align: right;\n",
       "    }\n",
       "</style>\n",
       "<table border=\"1\" class=\"dataframe\">\n",
       "  <thead>\n",
       "    <tr style=\"text-align: right;\">\n",
       "      <th></th>\n",
       "      <th>ICD_Code</th>\n",
       "      <th>Description</th>\n",
       "    </tr>\n",
       "  </thead>\n",
       "  <tbody>\n",
       "    <tr>\n",
       "      <th>count</th>\n",
       "      <td>71704</td>\n",
       "      <td>71704</td>\n",
       "    </tr>\n",
       "    <tr>\n",
       "      <th>unique</th>\n",
       "      <td>71704</td>\n",
       "      <td>71704</td>\n",
       "    </tr>\n",
       "    <tr>\n",
       "      <th>top</th>\n",
       "      <td>A00.0</td>\n",
       "      <td>cholera due to vibrio cholerae 01 biovar cholerae</td>\n",
       "    </tr>\n",
       "    <tr>\n",
       "      <th>freq</th>\n",
       "      <td>1</td>\n",
       "      <td>1</td>\n",
       "    </tr>\n",
       "  </tbody>\n",
       "</table>\n",
       "</div>"
      ],
      "text/plain": [
       "       ICD_Code                                        Description\n",
       "count     71704                                              71704\n",
       "unique    71704                                              71704\n",
       "top       A00.0  cholera due to vibrio cholerae 01 biovar cholerae\n",
       "freq          1                                                  1"
      ]
     },
     "execution_count": 5,
     "metadata": {},
     "output_type": "execute_result"
    }
   ],
   "source": [
    "df.describe()"
   ]
  },
  {
   "cell_type": "code",
   "execution_count": 6,
   "metadata": {},
   "outputs": [
    {
     "data": {
      "text/html": [
       "<div>\n",
       "<style scoped>\n",
       "    .dataframe tbody tr th:only-of-type {\n",
       "        vertical-align: middle;\n",
       "    }\n",
       "\n",
       "    .dataframe tbody tr th {\n",
       "        vertical-align: top;\n",
       "    }\n",
       "\n",
       "    .dataframe thead th {\n",
       "        text-align: right;\n",
       "    }\n",
       "</style>\n",
       "<table border=\"1\" class=\"dataframe\">\n",
       "  <thead>\n",
       "    <tr style=\"text-align: right;\">\n",
       "      <th></th>\n",
       "      <th>ICD_Code</th>\n",
       "      <th>Description</th>\n",
       "    </tr>\n",
       "  </thead>\n",
       "  <tbody>\n",
       "    <tr>\n",
       "      <th>0</th>\n",
       "      <td>A00.0</td>\n",
       "      <td>cholera due to vibrio cholerae 01 biovar cholerae</td>\n",
       "    </tr>\n",
       "    <tr>\n",
       "      <th>1</th>\n",
       "      <td>A00.1</td>\n",
       "      <td>cholera due to vibrio cholerae 01 biovar eltor</td>\n",
       "    </tr>\n",
       "    <tr>\n",
       "      <th>2</th>\n",
       "      <td>A00.9</td>\n",
       "      <td>cholera unspecified</td>\n",
       "    </tr>\n",
       "    <tr>\n",
       "      <th>3</th>\n",
       "      <td>A01.00</td>\n",
       "      <td>typhoid fever unspecified typhoid fever</td>\n",
       "    </tr>\n",
       "    <tr>\n",
       "      <th>4</th>\n",
       "      <td>A01.01</td>\n",
       "      <td>typhoid meningitis typhoid fever</td>\n",
       "    </tr>\n",
       "    <tr>\n",
       "      <th>5</th>\n",
       "      <td>A01.02</td>\n",
       "      <td>typhoid fever with heart involvement typhoid f...</td>\n",
       "    </tr>\n",
       "    <tr>\n",
       "      <th>6</th>\n",
       "      <td>A01.03</td>\n",
       "      <td>typhoid pneumonia typhoid fever</td>\n",
       "    </tr>\n",
       "    <tr>\n",
       "      <th>7</th>\n",
       "      <td>A01.04</td>\n",
       "      <td>typhoid arthritis typhoid fever</td>\n",
       "    </tr>\n",
       "    <tr>\n",
       "      <th>8</th>\n",
       "      <td>A01.05</td>\n",
       "      <td>typhoid osteomyelitis typhoid fever</td>\n",
       "    </tr>\n",
       "    <tr>\n",
       "      <th>9</th>\n",
       "      <td>A01.09</td>\n",
       "      <td>typhoid fever with other complications typhoid...</td>\n",
       "    </tr>\n",
       "  </tbody>\n",
       "</table>\n",
       "</div>"
      ],
      "text/plain": [
       "  ICD_Code                                        Description\n",
       "0    A00.0  cholera due to vibrio cholerae 01 biovar cholerae\n",
       "1    A00.1     cholera due to vibrio cholerae 01 biovar eltor\n",
       "2    A00.9                                cholera unspecified\n",
       "3   A01.00            typhoid fever unspecified typhoid fever\n",
       "4   A01.01                   typhoid meningitis typhoid fever\n",
       "5   A01.02  typhoid fever with heart involvement typhoid f...\n",
       "6   A01.03                    typhoid pneumonia typhoid fever\n",
       "7   A01.04                    typhoid arthritis typhoid fever\n",
       "8   A01.05                typhoid osteomyelitis typhoid fever\n",
       "9   A01.09  typhoid fever with other complications typhoid..."
      ]
     },
     "execution_count": 6,
     "metadata": {},
     "output_type": "execute_result"
    }
   ],
   "source": [
    "df.head(10)"
   ]
  },
  {
   "cell_type": "code",
   "execution_count": 7,
   "metadata": {},
   "outputs": [],
   "source": [
    "corpus = (df['ICD_Code'] + \" \" + df['Description']).tolist()\n",
    "\n",
    "with open(\"corpus.txt\", \"w\", encoding=\"utf-8\") as f:\n",
    "    for line in corpus:\n",
    "        f.write(line + \"\\n\")\n"
   ]
  },
  {
   "cell_type": "code",
   "execution_count": 8,
   "metadata": {},
   "outputs": [
    {
     "name": "stdout",
     "output_type": "stream",
     "text": [
      "\n",
      "\n",
      "\n"
     ]
    }
   ],
   "source": [
    "tokenizer = Tokenizer(BPE(unk_token=\"[UNK]\"))\n",
    "tokenizer.pre_tokenizer = Whitespace()\n",
    "\n",
    "trainer = BpeTrainer(special_tokens=[\"[PAD]\", \"[UNK]\", \"[SOS]\", \"[EOS]\"])\n",
    "\n",
    "tokenizer.train([\"corpus.txt\"], trainer)\n",
    "\n",
    "tokenizer.post_processor = TemplateProcessing(\n",
    "    single=\"[SOS] $A [EOS]\",\n",
    "    pair=\"[SOS] $A [EOS] [SOS] $B [EOS]\",\n",
    "    special_tokens=[\n",
    "        (\"[SOS]\", tokenizer.token_to_id(\"[SOS]\")),\n",
    "        (\"[EOS]\", tokenizer.token_to_id(\"[EOS]\")),\n",
    "    ],\n",
    ")"
   ]
  },
  {
   "cell_type": "code",
   "execution_count": 9,
   "metadata": {},
   "outputs": [],
   "source": [
    "def tokenize_text(text):\n",
    "    return tokenizer.encode(text)\n",
    "\n",
    "df['code_tokens'] = df['ICD_Code'].apply(lambda x: tokenize_text(x).ids)\n",
    "df['desc_tokens'] = df['Description'].apply(lambda x: tokenize_text(x).ids)\n"
   ]
  },
  {
   "cell_type": "code",
   "execution_count": 10,
   "metadata": {},
   "outputs": [
    {
     "data": {
      "text/plain": [
       "ICD_Code                                                   A00.0\n",
       "Description    cholera due to vibrio cholerae 01 biovar cholerae\n",
       "code_tokens                                  [2, 13998, 4, 5, 3]\n",
       "desc_tokens    [2, 15427, 302, 136, 12988, 15428, 353, 15921,...\n",
       "Name: 0, dtype: object"
      ]
     },
     "execution_count": 10,
     "metadata": {},
     "output_type": "execute_result"
    }
   ],
   "source": [
    "df.iloc[0]"
   ]
  },
  {
   "cell_type": "code",
   "execution_count": 11,
   "metadata": {},
   "outputs": [
    {
     "data": {
      "text/plain": [
       "[2, 15427, 302, 136, 12988, 15428, 353, 15921, 15428, 3]"
      ]
     },
     "execution_count": 11,
     "metadata": {},
     "output_type": "execute_result"
    }
   ],
   "source": [
    "df.iloc[0].to_list()[3]"
   ]
  },
  {
   "cell_type": "code",
   "execution_count": 42,
   "metadata": {},
   "outputs": [],
   "source": [
    "from torch.nn.utils.rnn import pad_sequence\n",
    "import torch\n",
    "\n",
    "def pad_batch(batch):\n",
    "    tensor_batch = [torch.tensor(seq) for seq in batch]\n",
    "    return pad_sequence(tensor_batch, batch_first=True, padding_value=tokenizer.token_to_id(\"[PAD]\"))\n"
   ]
  },
  {
   "cell_type": "code",
   "execution_count": 43,
   "metadata": {},
   "outputs": [],
   "source": [
    "code_padded = pad_batch(df['code_tokens'].tolist())\n",
    "desc_padded = pad_batch(df['desc_tokens'].tolist())"
   ]
  },
  {
   "cell_type": "code",
   "execution_count": 44,
   "metadata": {},
   "outputs": [
    {
     "name": "stdout",
     "output_type": "stream",
     "text": [
      "The total count of ICD Codes=71704\n",
      "The total count of Code Descriptions=71704\n"
     ]
    }
   ],
   "source": [
    "print(f\"The total count of ICD Codes={len(code_padded)}\")\n",
    "print(f\"The total count of Code Descriptions={len(desc_padded)}\")"
   ]
  },
  {
   "cell_type": "code",
   "execution_count": 45,
   "metadata": {},
   "outputs": [
    {
     "name": "stdout",
     "output_type": "stream",
     "text": [
      "The tokens in each ICD Codes=5\n",
      "The tokens in each Code Descriptions=60\n"
     ]
    }
   ],
   "source": [
    "print(f\"The tokens in each ICD Codes={len(code_padded[3])}\")\n",
    "print(f\"The tokens in each Code Descriptions={len(desc_padded[3])}\")"
   ]
  },
  {
   "cell_type": "code",
   "execution_count": 46,
   "metadata": {},
   "outputs": [
    {
     "data": {
      "text/plain": [
       "ICD_Code                                A01.03\n",
       "Description    typhoid pneumonia typhoid fever\n",
       "code_tokens              [2, 8278, 4, 1209, 3]\n",
       "desc_tokens     [2, 7741, 2821, 7741, 3267, 3]\n",
       "Name: 6, dtype: object"
      ]
     },
     "execution_count": 46,
     "metadata": {},
     "output_type": "execute_result"
    }
   ],
   "source": [
    "df.iloc[6]"
   ]
  },
  {
   "cell_type": "code",
   "execution_count": 47,
   "metadata": {},
   "outputs": [
    {
     "data": {
      "text/plain": [
       "tensor([   2, 7741, 2821, 7741, 3267,    3,    0,    0,    0,    0,    0,    0,\n",
       "           0,    0,    0,    0,    0,    0,    0,    0,    0,    0,    0,    0,\n",
       "           0,    0,    0,    0,    0,    0,    0,    0,    0,    0,    0,    0,\n",
       "           0,    0,    0,    0,    0,    0,    0,    0,    0,    0,    0,    0,\n",
       "           0,    0,    0,    0,    0,    0,    0,    0,    0,    0,    0,    0])"
      ]
     },
     "execution_count": 47,
     "metadata": {},
     "output_type": "execute_result"
    }
   ],
   "source": [
    "desc_padded[6]"
   ]
  },
  {
   "cell_type": "code",
   "execution_count": 50,
   "metadata": {},
   "outputs": [
    {
     "data": {
      "text/plain": [
       "tensor([   2, 8278,    4, 1209,    3])"
      ]
     },
     "execution_count": 50,
     "metadata": {},
     "output_type": "execute_result"
    }
   ],
   "source": [
    "code_padded[6]"
   ]
  },
  {
   "cell_type": "code",
   "execution_count": null,
   "metadata": {},
   "outputs": [],
   "source": []
  },
  {
   "cell_type": "code",
   "execution_count": 16,
   "metadata": {},
   "outputs": [
    {
     "name": "stdout",
     "output_type": "stream",
     "text": [
      "typhoid pneumonia typhoid fever\n",
      "A01 . 03\n"
     ]
    }
   ],
   "source": [
    "decoded1 = tokenizer.decode(desc_padded[6].tolist())\n",
    "decoded2 = tokenizer.decode(code_padded[6].tolist())\n",
    "print(decoded1)\n",
    "print(decoded2)"
   ]
  },
  {
   "cell_type": "code",
   "execution_count": 17,
   "metadata": {},
   "outputs": [],
   "source": [
    "tokenizer.save(\"bpe_tokenizer.json\")\n",
    "\n",
    "from tokenizers import Tokenizer\n",
    "tokenizer = Tokenizer.from_file(\"bpe_tokenizer.json\")\n"
   ]
  },
  {
   "cell_type": "code",
   "execution_count": 18,
   "metadata": {},
   "outputs": [
    {
     "data": {
      "text/html": [
       "<div>\n",
       "<style scoped>\n",
       "    .dataframe tbody tr th:only-of-type {\n",
       "        vertical-align: middle;\n",
       "    }\n",
       "\n",
       "    .dataframe tbody tr th {\n",
       "        vertical-align: top;\n",
       "    }\n",
       "\n",
       "    .dataframe thead th {\n",
       "        text-align: right;\n",
       "    }\n",
       "</style>\n",
       "<table border=\"1\" class=\"dataframe\">\n",
       "  <thead>\n",
       "    <tr style=\"text-align: right;\">\n",
       "      <th></th>\n",
       "      <th>ICD_Code</th>\n",
       "      <th>Description</th>\n",
       "      <th>code_tokens</th>\n",
       "      <th>desc_tokens</th>\n",
       "    </tr>\n",
       "  </thead>\n",
       "  <tbody>\n",
       "    <tr>\n",
       "      <th>0</th>\n",
       "      <td>A00.0</td>\n",
       "      <td>cholera due to vibrio cholerae 01 biovar cholerae</td>\n",
       "      <td>[2, 13998, 4, 5, 3]</td>\n",
       "      <td>[2, 15427, 302, 136, 12988, 15428, 353, 15921,...</td>\n",
       "    </tr>\n",
       "    <tr>\n",
       "      <th>1</th>\n",
       "      <td>A00.1</td>\n",
       "      <td>cholera due to vibrio cholerae 01 biovar eltor</td>\n",
       "      <td>[2, 13998, 4, 6, 3]</td>\n",
       "      <td>[2, 15427, 302, 136, 12988, 15428, 353, 15921,...</td>\n",
       "    </tr>\n",
       "    <tr>\n",
       "      <th>2</th>\n",
       "      <td>A00.9</td>\n",
       "      <td>cholera unspecified</td>\n",
       "      <td>[2, 13998, 4, 14, 3]</td>\n",
       "      <td>[2, 15427, 97, 3]</td>\n",
       "    </tr>\n",
       "    <tr>\n",
       "      <th>3</th>\n",
       "      <td>A01.00</td>\n",
       "      <td>typhoid fever unspecified typhoid fever</td>\n",
       "      <td>[2, 8278, 4, 606, 3]</td>\n",
       "      <td>[2, 7741, 3267, 97, 7741, 3267, 3]</td>\n",
       "    </tr>\n",
       "    <tr>\n",
       "      <th>4</th>\n",
       "      <td>A01.01</td>\n",
       "      <td>typhoid meningitis typhoid fever</td>\n",
       "      <td>[2, 8278, 4, 353, 3]</td>\n",
       "      <td>[2, 7741, 4503, 7741, 3267, 3]</td>\n",
       "    </tr>\n",
       "    <tr>\n",
       "      <th>...</th>\n",
       "      <td>...</td>\n",
       "      <td>...</td>\n",
       "      <td>...</td>\n",
       "      <td>...</td>\n",
       "    </tr>\n",
       "    <tr>\n",
       "      <th>71699</th>\n",
       "      <td>Z99.12</td>\n",
       "      <td>encounter for respirator ventilator dependence...</td>\n",
       "      <td>[2, 10685, 4, 276, 3]</td>\n",
       "      <td>[2, 103, 139, 9590, 10800, 1474, 1501, 1181, 2...</td>\n",
       "    </tr>\n",
       "    <tr>\n",
       "      <th>71700</th>\n",
       "      <td>Z99.2</td>\n",
       "      <td>dependence on renal dialysis dependence on ren...</td>\n",
       "      <td>[2, 10685, 4, 7, 3]</td>\n",
       "      <td>[2, 1474, 70, 1312, 2676, 1474, 70, 1312, 2676...</td>\n",
       "    </tr>\n",
       "    <tr>\n",
       "      <th>71701</th>\n",
       "      <td>Z99.3</td>\n",
       "      <td>dependence on wheelchair dependence on wheelchair</td>\n",
       "      <td>[2, 10685, 4, 8, 3]</td>\n",
       "      <td>[2, 1474, 70, 6083, 1474, 70, 6083, 3]</td>\n",
       "    </tr>\n",
       "    <tr>\n",
       "      <th>71702</th>\n",
       "      <td>Z99.81</td>\n",
       "      <td>dependence on supplemental oxygen dependence o...</td>\n",
       "      <td>[2, 10685, 4, 636, 3]</td>\n",
       "      <td>[2, 1474, 70, 21645, 6971, 1474, 70, 119, 1547...</td>\n",
       "    </tr>\n",
       "    <tr>\n",
       "      <th>71703</th>\n",
       "      <td>Z99.89</td>\n",
       "      <td>dependence on other enabling machines and devi...</td>\n",
       "      <td>[2, 10685, 4, 843, 3]</td>\n",
       "      <td>[2, 1474, 70, 119, 15472, 7453, 118, 1129, 147...</td>\n",
       "    </tr>\n",
       "  </tbody>\n",
       "</table>\n",
       "<p>71704 rows × 4 columns</p>\n",
       "</div>"
      ],
      "text/plain": [
       "      ICD_Code                                        Description  \\\n",
       "0        A00.0  cholera due to vibrio cholerae 01 biovar cholerae   \n",
       "1        A00.1     cholera due to vibrio cholerae 01 biovar eltor   \n",
       "2        A00.9                                cholera unspecified   \n",
       "3       A01.00            typhoid fever unspecified typhoid fever   \n",
       "4       A01.01                   typhoid meningitis typhoid fever   \n",
       "...        ...                                                ...   \n",
       "71699   Z99.12  encounter for respirator ventilator dependence...   \n",
       "71700    Z99.2  dependence on renal dialysis dependence on ren...   \n",
       "71701    Z99.3  dependence on wheelchair dependence on wheelchair   \n",
       "71702   Z99.81  dependence on supplemental oxygen dependence o...   \n",
       "71703   Z99.89  dependence on other enabling machines and devi...   \n",
       "\n",
       "                 code_tokens  \\\n",
       "0        [2, 13998, 4, 5, 3]   \n",
       "1        [2, 13998, 4, 6, 3]   \n",
       "2       [2, 13998, 4, 14, 3]   \n",
       "3       [2, 8278, 4, 606, 3]   \n",
       "4       [2, 8278, 4, 353, 3]   \n",
       "...                      ...   \n",
       "71699  [2, 10685, 4, 276, 3]   \n",
       "71700    [2, 10685, 4, 7, 3]   \n",
       "71701    [2, 10685, 4, 8, 3]   \n",
       "71702  [2, 10685, 4, 636, 3]   \n",
       "71703  [2, 10685, 4, 843, 3]   \n",
       "\n",
       "                                             desc_tokens  \n",
       "0      [2, 15427, 302, 136, 12988, 15428, 353, 15921,...  \n",
       "1      [2, 15427, 302, 136, 12988, 15428, 353, 15921,...  \n",
       "2                                      [2, 15427, 97, 3]  \n",
       "3                     [2, 7741, 3267, 97, 7741, 3267, 3]  \n",
       "4                         [2, 7741, 4503, 7741, 3267, 3]  \n",
       "...                                                  ...  \n",
       "71699  [2, 103, 139, 9590, 10800, 1474, 1501, 1181, 2...  \n",
       "71700  [2, 1474, 70, 1312, 2676, 1474, 70, 1312, 2676...  \n",
       "71701             [2, 1474, 70, 6083, 1474, 70, 6083, 3]  \n",
       "71702  [2, 1474, 70, 21645, 6971, 1474, 70, 119, 1547...  \n",
       "71703  [2, 1474, 70, 119, 15472, 7453, 118, 1129, 147...  \n",
       "\n",
       "[71704 rows x 4 columns]"
      ]
     },
     "execution_count": 18,
     "metadata": {},
     "output_type": "execute_result"
    }
   ],
   "source": [
    "df"
   ]
  },
  {
   "cell_type": "code",
   "execution_count": 19,
   "metadata": {},
   "outputs": [],
   "source": [
    "df1 = df.copy()"
   ]
  },
  {
   "cell_type": "code",
   "execution_count": 20,
   "metadata": {},
   "outputs": [
    {
     "data": {
      "text/html": [
       "<div>\n",
       "<style scoped>\n",
       "    .dataframe tbody tr th:only-of-type {\n",
       "        vertical-align: middle;\n",
       "    }\n",
       "\n",
       "    .dataframe tbody tr th {\n",
       "        vertical-align: top;\n",
       "    }\n",
       "\n",
       "    .dataframe thead th {\n",
       "        text-align: right;\n",
       "    }\n",
       "</style>\n",
       "<table border=\"1\" class=\"dataframe\">\n",
       "  <thead>\n",
       "    <tr style=\"text-align: right;\">\n",
       "      <th></th>\n",
       "      <th>ICD_Code</th>\n",
       "      <th>Description</th>\n",
       "      <th>code_tokens</th>\n",
       "      <th>desc_tokens</th>\n",
       "    </tr>\n",
       "  </thead>\n",
       "  <tbody>\n",
       "    <tr>\n",
       "      <th>0</th>\n",
       "      <td>A00.0</td>\n",
       "      <td>cholera due to vibrio cholerae 01 biovar cholerae</td>\n",
       "      <td>[2, 13998, 4, 5, 3]</td>\n",
       "      <td>[2, 15427, 302, 136, 12988, 15428, 353, 15921,...</td>\n",
       "    </tr>\n",
       "    <tr>\n",
       "      <th>1</th>\n",
       "      <td>A00.1</td>\n",
       "      <td>cholera due to vibrio cholerae 01 biovar eltor</td>\n",
       "      <td>[2, 13998, 4, 6, 3]</td>\n",
       "      <td>[2, 15427, 302, 136, 12988, 15428, 353, 15921,...</td>\n",
       "    </tr>\n",
       "    <tr>\n",
       "      <th>2</th>\n",
       "      <td>A00.9</td>\n",
       "      <td>cholera unspecified</td>\n",
       "      <td>[2, 13998, 4, 14, 3]</td>\n",
       "      <td>[2, 15427, 97, 3]</td>\n",
       "    </tr>\n",
       "    <tr>\n",
       "      <th>3</th>\n",
       "      <td>A01.00</td>\n",
       "      <td>typhoid fever unspecified typhoid fever</td>\n",
       "      <td>[2, 8278, 4, 606, 3]</td>\n",
       "      <td>[2, 7741, 3267, 97, 7741, 3267, 3]</td>\n",
       "    </tr>\n",
       "    <tr>\n",
       "      <th>4</th>\n",
       "      <td>A01.01</td>\n",
       "      <td>typhoid meningitis typhoid fever</td>\n",
       "      <td>[2, 8278, 4, 353, 3]</td>\n",
       "      <td>[2, 7741, 4503, 7741, 3267, 3]</td>\n",
       "    </tr>\n",
       "    <tr>\n",
       "      <th>...</th>\n",
       "      <td>...</td>\n",
       "      <td>...</td>\n",
       "      <td>...</td>\n",
       "      <td>...</td>\n",
       "    </tr>\n",
       "    <tr>\n",
       "      <th>71699</th>\n",
       "      <td>Z99.12</td>\n",
       "      <td>encounter for respirator ventilator dependence...</td>\n",
       "      <td>[2, 10685, 4, 276, 3]</td>\n",
       "      <td>[2, 103, 139, 9590, 10800, 1474, 1501, 1181, 2...</td>\n",
       "    </tr>\n",
       "    <tr>\n",
       "      <th>71700</th>\n",
       "      <td>Z99.2</td>\n",
       "      <td>dependence on renal dialysis dependence on ren...</td>\n",
       "      <td>[2, 10685, 4, 7, 3]</td>\n",
       "      <td>[2, 1474, 70, 1312, 2676, 1474, 70, 1312, 2676...</td>\n",
       "    </tr>\n",
       "    <tr>\n",
       "      <th>71701</th>\n",
       "      <td>Z99.3</td>\n",
       "      <td>dependence on wheelchair dependence on wheelchair</td>\n",
       "      <td>[2, 10685, 4, 8, 3]</td>\n",
       "      <td>[2, 1474, 70, 6083, 1474, 70, 6083, 3]</td>\n",
       "    </tr>\n",
       "    <tr>\n",
       "      <th>71702</th>\n",
       "      <td>Z99.81</td>\n",
       "      <td>dependence on supplemental oxygen dependence o...</td>\n",
       "      <td>[2, 10685, 4, 636, 3]</td>\n",
       "      <td>[2, 1474, 70, 21645, 6971, 1474, 70, 119, 1547...</td>\n",
       "    </tr>\n",
       "    <tr>\n",
       "      <th>71703</th>\n",
       "      <td>Z99.89</td>\n",
       "      <td>dependence on other enabling machines and devi...</td>\n",
       "      <td>[2, 10685, 4, 843, 3]</td>\n",
       "      <td>[2, 1474, 70, 119, 15472, 7453, 118, 1129, 147...</td>\n",
       "    </tr>\n",
       "  </tbody>\n",
       "</table>\n",
       "<p>71704 rows × 4 columns</p>\n",
       "</div>"
      ],
      "text/plain": [
       "      ICD_Code                                        Description  \\\n",
       "0        A00.0  cholera due to vibrio cholerae 01 biovar cholerae   \n",
       "1        A00.1     cholera due to vibrio cholerae 01 biovar eltor   \n",
       "2        A00.9                                cholera unspecified   \n",
       "3       A01.00            typhoid fever unspecified typhoid fever   \n",
       "4       A01.01                   typhoid meningitis typhoid fever   \n",
       "...        ...                                                ...   \n",
       "71699   Z99.12  encounter for respirator ventilator dependence...   \n",
       "71700    Z99.2  dependence on renal dialysis dependence on ren...   \n",
       "71701    Z99.3  dependence on wheelchair dependence on wheelchair   \n",
       "71702   Z99.81  dependence on supplemental oxygen dependence o...   \n",
       "71703   Z99.89  dependence on other enabling machines and devi...   \n",
       "\n",
       "                 code_tokens  \\\n",
       "0        [2, 13998, 4, 5, 3]   \n",
       "1        [2, 13998, 4, 6, 3]   \n",
       "2       [2, 13998, 4, 14, 3]   \n",
       "3       [2, 8278, 4, 606, 3]   \n",
       "4       [2, 8278, 4, 353, 3]   \n",
       "...                      ...   \n",
       "71699  [2, 10685, 4, 276, 3]   \n",
       "71700    [2, 10685, 4, 7, 3]   \n",
       "71701    [2, 10685, 4, 8, 3]   \n",
       "71702  [2, 10685, 4, 636, 3]   \n",
       "71703  [2, 10685, 4, 843, 3]   \n",
       "\n",
       "                                             desc_tokens  \n",
       "0      [2, 15427, 302, 136, 12988, 15428, 353, 15921,...  \n",
       "1      [2, 15427, 302, 136, 12988, 15428, 353, 15921,...  \n",
       "2                                      [2, 15427, 97, 3]  \n",
       "3                     [2, 7741, 3267, 97, 7741, 3267, 3]  \n",
       "4                         [2, 7741, 4503, 7741, 3267, 3]  \n",
       "...                                                  ...  \n",
       "71699  [2, 103, 139, 9590, 10800, 1474, 1501, 1181, 2...  \n",
       "71700  [2, 1474, 70, 1312, 2676, 1474, 70, 1312, 2676...  \n",
       "71701             [2, 1474, 70, 6083, 1474, 70, 6083, 3]  \n",
       "71702  [2, 1474, 70, 21645, 6971, 1474, 70, 119, 1547...  \n",
       "71703  [2, 1474, 70, 119, 15472, 7453, 118, 1129, 147...  \n",
       "\n",
       "[71704 rows x 4 columns]"
      ]
     },
     "execution_count": 20,
     "metadata": {},
     "output_type": "execute_result"
    }
   ],
   "source": [
    "df1"
   ]
  },
  {
   "cell_type": "code",
   "execution_count": 21,
   "metadata": {},
   "outputs": [],
   "source": [
    "df1['code_padded'] = [list(row) for row in code_padded]\n",
    "df1['desc_padded'] = [list(row) for row in desc_padded]\n",
    "df1 = df1.drop(columns=['ICD_Code','Description','code_tokens','desc_tokens'])"
   ]
  },
  {
   "cell_type": "code",
   "execution_count": 17,
   "metadata": {},
   "outputs": [
    {
     "data": {
      "text/html": [
       "<div>\n",
       "<style scoped>\n",
       "    .dataframe tbody tr th:only-of-type {\n",
       "        vertical-align: middle;\n",
       "    }\n",
       "\n",
       "    .dataframe tbody tr th {\n",
       "        vertical-align: top;\n",
       "    }\n",
       "\n",
       "    .dataframe thead th {\n",
       "        text-align: right;\n",
       "    }\n",
       "</style>\n",
       "<table border=\"1\" class=\"dataframe\">\n",
       "  <thead>\n",
       "    <tr style=\"text-align: right;\">\n",
       "      <th></th>\n",
       "      <th>ICD_Code</th>\n",
       "      <th>Description</th>\n",
       "      <th>code_tokens</th>\n",
       "      <th>desc_tokens</th>\n",
       "    </tr>\n",
       "  </thead>\n",
       "  <tbody>\n",
       "    <tr>\n",
       "      <th>0</th>\n",
       "      <td>A00.0</td>\n",
       "      <td>cholera due to vibrio cholerae 01 biovar cholerae</td>\n",
       "      <td>[2, 13998, 4, 5, 3]</td>\n",
       "      <td>[2, 15427, 302, 136, 12988, 15428, 353, 15921,...</td>\n",
       "    </tr>\n",
       "    <tr>\n",
       "      <th>1</th>\n",
       "      <td>A00.1</td>\n",
       "      <td>cholera due to vibrio cholerae 01 biovar eltor</td>\n",
       "      <td>[2, 13998, 4, 6, 3]</td>\n",
       "      <td>[2, 15427, 302, 136, 12988, 15428, 353, 15921,...</td>\n",
       "    </tr>\n",
       "    <tr>\n",
       "      <th>2</th>\n",
       "      <td>A00.9</td>\n",
       "      <td>cholera unspecified</td>\n",
       "      <td>[2, 13998, 4, 14, 3]</td>\n",
       "      <td>[2, 15427, 97, 3]</td>\n",
       "    </tr>\n",
       "    <tr>\n",
       "      <th>3</th>\n",
       "      <td>A01.00</td>\n",
       "      <td>typhoid fever unspecified typhoid fever</td>\n",
       "      <td>[2, 8278, 4, 606, 3]</td>\n",
       "      <td>[2, 7741, 3267, 97, 7741, 3267, 3]</td>\n",
       "    </tr>\n",
       "    <tr>\n",
       "      <th>4</th>\n",
       "      <td>A01.01</td>\n",
       "      <td>typhoid meningitis typhoid fever</td>\n",
       "      <td>[2, 8278, 4, 353, 3]</td>\n",
       "      <td>[2, 7741, 4503, 7741, 3267, 3]</td>\n",
       "    </tr>\n",
       "    <tr>\n",
       "      <th>5</th>\n",
       "      <td>A01.02</td>\n",
       "      <td>typhoid fever with heart involvement typhoid f...</td>\n",
       "      <td>[2, 8278, 4, 301, 3]</td>\n",
       "      <td>[2, 7741, 3267, 110, 1184, 1806, 7741, 3267, 3]</td>\n",
       "    </tr>\n",
       "    <tr>\n",
       "      <th>6</th>\n",
       "      <td>A01.03</td>\n",
       "      <td>typhoid pneumonia typhoid fever</td>\n",
       "      <td>[2, 8278, 4, 1209, 3]</td>\n",
       "      <td>[2, 7741, 2821, 7741, 3267, 3]</td>\n",
       "    </tr>\n",
       "    <tr>\n",
       "      <th>7</th>\n",
       "      <td>A01.04</td>\n",
       "      <td>typhoid arthritis typhoid fever</td>\n",
       "      <td>[2, 8278, 4, 1171, 3]</td>\n",
       "      <td>[2, 7741, 729, 7741, 3267, 3]</td>\n",
       "    </tr>\n",
       "    <tr>\n",
       "      <th>8</th>\n",
       "      <td>A01.05</td>\n",
       "      <td>typhoid osteomyelitis typhoid fever</td>\n",
       "      <td>[2, 8278, 4, 991, 3]</td>\n",
       "      <td>[2, 7741, 1378, 7741, 3267, 3]</td>\n",
       "    </tr>\n",
       "    <tr>\n",
       "      <th>9</th>\n",
       "      <td>A01.09</td>\n",
       "      <td>typhoid fever with other complications typhoid...</td>\n",
       "      <td>[2, 8278, 4, 501, 3]</td>\n",
       "      <td>[2, 7741, 3267, 110, 119, 932, 7741, 3267, 3]</td>\n",
       "    </tr>\n",
       "  </tbody>\n",
       "</table>\n",
       "</div>"
      ],
      "text/plain": [
       "  ICD_Code                                        Description  \\\n",
       "0    A00.0  cholera due to vibrio cholerae 01 biovar cholerae   \n",
       "1    A00.1     cholera due to vibrio cholerae 01 biovar eltor   \n",
       "2    A00.9                                cholera unspecified   \n",
       "3   A01.00            typhoid fever unspecified typhoid fever   \n",
       "4   A01.01                   typhoid meningitis typhoid fever   \n",
       "5   A01.02  typhoid fever with heart involvement typhoid f...   \n",
       "6   A01.03                    typhoid pneumonia typhoid fever   \n",
       "7   A01.04                    typhoid arthritis typhoid fever   \n",
       "8   A01.05                typhoid osteomyelitis typhoid fever   \n",
       "9   A01.09  typhoid fever with other complications typhoid...   \n",
       "\n",
       "             code_tokens                                        desc_tokens  \n",
       "0    [2, 13998, 4, 5, 3]  [2, 15427, 302, 136, 12988, 15428, 353, 15921,...  \n",
       "1    [2, 13998, 4, 6, 3]  [2, 15427, 302, 136, 12988, 15428, 353, 15921,...  \n",
       "2   [2, 13998, 4, 14, 3]                                  [2, 15427, 97, 3]  \n",
       "3   [2, 8278, 4, 606, 3]                 [2, 7741, 3267, 97, 7741, 3267, 3]  \n",
       "4   [2, 8278, 4, 353, 3]                     [2, 7741, 4503, 7741, 3267, 3]  \n",
       "5   [2, 8278, 4, 301, 3]    [2, 7741, 3267, 110, 1184, 1806, 7741, 3267, 3]  \n",
       "6  [2, 8278, 4, 1209, 3]                     [2, 7741, 2821, 7741, 3267, 3]  \n",
       "7  [2, 8278, 4, 1171, 3]                      [2, 7741, 729, 7741, 3267, 3]  \n",
       "8   [2, 8278, 4, 991, 3]                     [2, 7741, 1378, 7741, 3267, 3]  \n",
       "9   [2, 8278, 4, 501, 3]      [2, 7741, 3267, 110, 119, 932, 7741, 3267, 3]  "
      ]
     },
     "execution_count": 17,
     "metadata": {},
     "output_type": "execute_result"
    }
   ],
   "source": [
    "df.head(10)"
   ]
  },
  {
   "cell_type": "code",
   "execution_count": 25,
   "metadata": {},
   "outputs": [
    {
     "data": {
      "text/plain": [
       "list"
      ]
     },
     "execution_count": 25,
     "metadata": {},
     "output_type": "execute_result"
    }
   ],
   "source": [
    "type(df1['code_padded'].iloc[0])"
   ]
  },
  {
   "cell_type": "code",
   "execution_count": 97,
   "metadata": {},
   "outputs": [],
   "source": [
    "df1.to_csv(\"/home/careinfolab/Dr_Luo/Rohan/ICD_Codes/Dataset/icd10-codes-and-descriptions/Tokens.csv\")"
   ]
  },
  {
   "cell_type": "code",
   "execution_count": 3,
   "metadata": {},
   "outputs": [],
   "source": [
    "import torch"
   ]
  },
  {
   "cell_type": "code",
   "execution_count": 44,
   "metadata": {},
   "outputs": [
    {
     "name": "stderr",
     "output_type": "stream",
     "text": [
      "/tmp/ipykernel_423516/4005894236.py:1: FutureWarning: You are using `torch.load` with `weights_only=False` (the current default value), which uses the default pickle module implicitly. It is possible to construct malicious pickle data which will execute arbitrary code during unpickling (See https://github.com/pytorch/pytorch/blob/main/SECURITY.md#untrusted-models for more details). In a future release, the default value for `weights_only` will be flipped to `True`. This limits the functions that could be executed during unpickling. Arbitrary objects will no longer be allowed to be loaded via this mode unless they are explicitly allowlisted by the user via `torch.serialization.add_safe_globals`. We recommend you start setting `weights_only=True` for any use case where you don't have full control of the loaded file. Please open an issue on GitHub for any issues related to this experimental feature.\n",
      "  rnn = torch.load('/home/careinfolab/Dr_Luo/Rohan/ICD_Codes/Results/LSTM/checkpoints/best_model.pt')\n"
     ]
    }
   ],
   "source": [
    "rnn = torch.load('/home/careinfolab/Dr_Luo/Rohan/ICD_Codes/Results/LSTM/checkpoints/best_model.pt')"
   ]
  },
  {
   "cell_type": "code",
   "execution_count": 45,
   "metadata": {},
   "outputs": [
    {
     "name": "stdout",
     "output_type": "stream",
     "text": [
      "SeqModel(\n",
      "  (embedding): Embedding(25932, 174)\n",
      "  (rnn): LSTM(\n",
      "    (lstm): LSTM(174, 63, batch_first=True)\n",
      "    (h2o): Linear(in_features=63, out_features=25248, bias=True)\n",
      "  )\n",
      ")\n"
     ]
    }
   ],
   "source": [
    "print(rnn)"
   ]
  },
  {
   "cell_type": "code",
   "execution_count": 46,
   "metadata": {},
   "outputs": [],
   "source": [
    "input_tensor = torch.tensor([   2, 7741, 2821, 7741, 3267,    3,    0,    0,    0,    0,    0,    0,\n",
    "           0,    0,    0,    0,    0,    0,    0,    0,    0,    0,    0,    0,\n",
    "           0,    0,    0,    0,    0,    0,    0,    0,    0,    0,    0,    0,\n",
    "           0,    0,    0,    0,    0,    0,    0,    0,    0,    0,    0,    0,\n",
    "           0,    0,    0,    0,    0,    0,    0,    0,    0,    0,    0,    0])"
   ]
  },
  {
   "cell_type": "code",
   "execution_count": 47,
   "metadata": {},
   "outputs": [
    {
     "data": {
      "text/plain": [
       "torch.Size([60])"
      ]
     },
     "execution_count": 47,
     "metadata": {},
     "output_type": "execute_result"
    }
   ],
   "source": [
    "input_tensor.shape"
   ]
  },
  {
   "cell_type": "code",
   "execution_count": 48,
   "metadata": {},
   "outputs": [],
   "source": [
    "input_tensor = input_tensor.unsqueeze(0).to('cuda')  # Shape becomes [1, 60]"
   ]
  },
  {
   "cell_type": "code",
   "execution_count": null,
   "metadata": {},
   "outputs": [
    {
     "name": "stdout",
     "output_type": "stream",
     "text": [
      "torch.Size([1, 60, 25248])\n"
     ]
    }
   ],
   "source": [
    "input_tensor = input_tensor.to('cuda')\n",
    "\n",
    "batch_size = input_tensor.size(0)\n",
    "\n",
    "hidden = rnn.rnn.init_zero_hidden(batch_size)\n",
    "\n",
    "rnn.eval()\n",
    "with torch.no_grad():\n",
    "    preds = rnn(input_tensor, hidden)\n",
    "\n",
    "print(preds.shape)\n"
   ]
  },
  {
   "cell_type": "code",
   "execution_count": 50,
   "metadata": {},
   "outputs": [
    {
     "data": {
      "text/plain": [
       "tensor([[   2, 8278,    4,    6,    3,    3,    3,    3,    3,    3,    3,    3,\n",
       "            3,    3,    3,    3,    3,    3,    3,    3,    3,    3,    3,    3,\n",
       "            3,    3,    3,    3,    3,    3,    3,    3,    3,    3,    3,    3,\n",
       "            3,    3,    3,    3,    3,    3,    3,    3,    3,    3,    3,    3,\n",
       "            3,    3,    3,    3,    3,    3,    3,    3,    3,    3,    3,    3]],\n",
       "       device='cuda:0')"
      ]
     },
     "execution_count": 50,
     "metadata": {},
     "output_type": "execute_result"
    }
   ],
   "source": [
    "preds.argmax(dim=2)"
   ]
  },
  {
   "cell_type": "code",
   "execution_count": 51,
   "metadata": {},
   "outputs": [],
   "source": [
    "pred_logits = preds[:, :5, :]\n",
    "predictions = pred_logits.argmax(dim=2)"
   ]
  },
  {
   "cell_type": "code",
   "execution_count": 52,
   "metadata": {},
   "outputs": [
    {
     "data": {
      "text/plain": [
       "tensor([[[-0.4132, -0.4132, 20.8666,  ..., -0.4132, -0.4324, -0.3989],\n",
       "         [-0.2012, -0.2012,  2.4396,  ..., -0.2012,  0.5271,  0.4974],\n",
       "         [-1.2904, -1.2904, -0.6422,  ..., -1.2904, -0.2593, -0.2817],\n",
       "         [-1.2113, -1.2113,  2.9291,  ..., -1.2113, -0.3049, -0.3084],\n",
       "         [-0.7764, -0.7764,  7.8817,  ..., -0.7764,  0.0397,  0.0469]]],\n",
       "       device='cuda:0')"
      ]
     },
     "execution_count": 52,
     "metadata": {},
     "output_type": "execute_result"
    }
   ],
   "source": [
    "pred_logits"
   ]
  },
  {
   "cell_type": "markdown",
   "metadata": {},
   "source": [
    "ICD_Code                                A01.03\n",
    "Description    typhoid pneumonia typhoid fever\n",
    "code_tokens              [2, 8278, 4, 1209, 3]\n",
    "desc_tokens     [2, 7741, 2821, 7741, 3267, 3]\n",
    "Name: 6, dtype: object"
   ]
  },
  {
   "cell_type": "code",
   "execution_count": 53,
   "metadata": {},
   "outputs": [
    {
     "data": {
      "text/plain": [
       "tensor([[   2, 8278,    4,    6,    3]], device='cuda:0')"
      ]
     },
     "execution_count": 53,
     "metadata": {},
     "output_type": "execute_result"
    }
   ],
   "source": [
    "predictions"
   ]
  },
  {
   "cell_type": "code",
   "execution_count": 54,
   "metadata": {},
   "outputs": [
    {
     "data": {
      "text/plain": [
       "'A01 . 03'"
      ]
     },
     "execution_count": 54,
     "metadata": {},
     "output_type": "execute_result"
    }
   ],
   "source": [
    "original = torch.tensor([2, 8278, 4, 1209, 3])\n",
    "tokenizer = Tokenizer.from_file(\"bpe_tokenizer.json\")\n",
    "tokenizer.decode(original.tolist())"
   ]
  },
  {
   "cell_type": "code",
   "execution_count": 55,
   "metadata": {},
   "outputs": [
    {
     "data": {
      "text/plain": [
       "'A01 . 1'"
      ]
     },
     "execution_count": 55,
     "metadata": {},
     "output_type": "execute_result"
    }
   ],
   "source": [
    "tokenizer.decode(predictions[0].tolist())"
   ]
  },
  {
   "cell_type": "markdown",
   "metadata": {},
   "source": [
    "## ICD to Desc"
   ]
  },
  {
   "cell_type": "code",
   "execution_count": 12,
   "metadata": {},
   "outputs": [],
   "source": [
    "from torch.nn.utils.rnn import pad_sequence\n",
    "import torch\n",
    "\n",
    "def pad_batch(batch, max_length=None):\n",
    "    tensor_batch = [torch.tensor(seq) for seq in batch]\n",
    "    if max_length is None:\n",
    "        return pad_sequence(tensor_batch, batch_first=True, padding_value=tokenizer.token_to_id(\"[PAD]\"))\n",
    "    else:\n",
    "        padded = pad_sequence(tensor_batch, batch_first=True, padding_value=tokenizer.token_to_id(\"[PAD]\"))\n",
    "        if padded.size(1) < max_length:\n",
    "            pad_size = max_length - padded.size(1)\n",
    "            pad_tensor = torch.full((padded.size(0), pad_size), tokenizer.token_to_id(\"[PAD]\"))\n",
    "            padded = torch.cat([padded, pad_tensor], dim=1)\n",
    "        return padded\n",
    "\n",
    "desc_padded = pad_batch(df['desc_tokens'].tolist())\n",
    "max_len = desc_padded.size(1)\n",
    "\n",
    "code_padded = pad_batch(df['code_tokens'].tolist(), max_length=max_len)\n"
   ]
  },
  {
   "cell_type": "code",
   "execution_count": 13,
   "metadata": {},
   "outputs": [
    {
     "name": "stdout",
     "output_type": "stream",
     "text": [
      "The tokens in each ICD Codes=60\n",
      "The tokens in each Code Descriptions=60\n"
     ]
    }
   ],
   "source": [
    "print(f\"The tokens in each ICD Codes={len(code_padded[3])}\")\n",
    "print(f\"The tokens in each Code Descriptions={len(desc_padded[3])}\")"
   ]
  },
  {
   "cell_type": "code",
   "execution_count": 14,
   "metadata": {},
   "outputs": [
    {
     "name": "stdout",
     "output_type": "stream",
     "text": [
      "typhoid pneumonia typhoid fever\n",
      "A01 . 03\n"
     ]
    }
   ],
   "source": [
    "decoded1 = tokenizer.decode(desc_padded[6].tolist())\n",
    "decoded2 = tokenizer.decode(code_padded[6].tolist())\n",
    "print(decoded1)\n",
    "print(decoded2)"
   ]
  },
  {
   "cell_type": "code",
   "execution_count": 15,
   "metadata": {},
   "outputs": [],
   "source": [
    "df2 = df.copy()"
   ]
  },
  {
   "cell_type": "code",
   "execution_count": 16,
   "metadata": {},
   "outputs": [],
   "source": [
    "df2['code_padded'] = [list(row) for row in code_padded]\n",
    "df2['desc_padded'] = [list(row) for row in desc_padded]\n",
    "df2 = df2.drop(columns=['ICD_Code','Description','code_tokens','desc_tokens'])"
   ]
  },
  {
   "cell_type": "code",
   "execution_count": 18,
   "metadata": {},
   "outputs": [
    {
     "data": {
      "text/html": [
       "<div>\n",
       "<style scoped>\n",
       "    .dataframe tbody tr th:only-of-type {\n",
       "        vertical-align: middle;\n",
       "    }\n",
       "\n",
       "    .dataframe tbody tr th {\n",
       "        vertical-align: top;\n",
       "    }\n",
       "\n",
       "    .dataframe thead th {\n",
       "        text-align: right;\n",
       "    }\n",
       "</style>\n",
       "<table border=\"1\" class=\"dataframe\">\n",
       "  <thead>\n",
       "    <tr style=\"text-align: right;\">\n",
       "      <th></th>\n",
       "      <th>code_padded</th>\n",
       "      <th>desc_padded</th>\n",
       "    </tr>\n",
       "  </thead>\n",
       "  <tbody>\n",
       "    <tr>\n",
       "      <th>0</th>\n",
       "      <td>[tensor(2), tensor(13998), tensor(4), tensor(5...</td>\n",
       "      <td>[tensor(2), tensor(15427), tensor(302), tensor...</td>\n",
       "    </tr>\n",
       "    <tr>\n",
       "      <th>1</th>\n",
       "      <td>[tensor(2), tensor(13998), tensor(4), tensor(6...</td>\n",
       "      <td>[tensor(2), tensor(15427), tensor(302), tensor...</td>\n",
       "    </tr>\n",
       "    <tr>\n",
       "      <th>2</th>\n",
       "      <td>[tensor(2), tensor(13998), tensor(4), tensor(1...</td>\n",
       "      <td>[tensor(2), tensor(15427), tensor(97), tensor(...</td>\n",
       "    </tr>\n",
       "    <tr>\n",
       "      <th>3</th>\n",
       "      <td>[tensor(2), tensor(8278), tensor(4), tensor(60...</td>\n",
       "      <td>[tensor(2), tensor(7741), tensor(3267), tensor...</td>\n",
       "    </tr>\n",
       "    <tr>\n",
       "      <th>4</th>\n",
       "      <td>[tensor(2), tensor(8278), tensor(4), tensor(35...</td>\n",
       "      <td>[tensor(2), tensor(7741), tensor(4503), tensor...</td>\n",
       "    </tr>\n",
       "    <tr>\n",
       "      <th>...</th>\n",
       "      <td>...</td>\n",
       "      <td>...</td>\n",
       "    </tr>\n",
       "    <tr>\n",
       "      <th>71699</th>\n",
       "      <td>[tensor(2), tensor(10685), tensor(4), tensor(2...</td>\n",
       "      <td>[tensor(2), tensor(103), tensor(139), tensor(9...</td>\n",
       "    </tr>\n",
       "    <tr>\n",
       "      <th>71700</th>\n",
       "      <td>[tensor(2), tensor(10685), tensor(4), tensor(7...</td>\n",
       "      <td>[tensor(2), tensor(1474), tensor(70), tensor(1...</td>\n",
       "    </tr>\n",
       "    <tr>\n",
       "      <th>71701</th>\n",
       "      <td>[tensor(2), tensor(10685), tensor(4), tensor(8...</td>\n",
       "      <td>[tensor(2), tensor(1474), tensor(70), tensor(6...</td>\n",
       "    </tr>\n",
       "    <tr>\n",
       "      <th>71702</th>\n",
       "      <td>[tensor(2), tensor(10685), tensor(4), tensor(6...</td>\n",
       "      <td>[tensor(2), tensor(1474), tensor(70), tensor(2...</td>\n",
       "    </tr>\n",
       "    <tr>\n",
       "      <th>71703</th>\n",
       "      <td>[tensor(2), tensor(10685), tensor(4), tensor(8...</td>\n",
       "      <td>[tensor(2), tensor(1474), tensor(70), tensor(1...</td>\n",
       "    </tr>\n",
       "  </tbody>\n",
       "</table>\n",
       "<p>71704 rows × 2 columns</p>\n",
       "</div>"
      ],
      "text/plain": [
       "                                             code_padded  \\\n",
       "0      [tensor(2), tensor(13998), tensor(4), tensor(5...   \n",
       "1      [tensor(2), tensor(13998), tensor(4), tensor(6...   \n",
       "2      [tensor(2), tensor(13998), tensor(4), tensor(1...   \n",
       "3      [tensor(2), tensor(8278), tensor(4), tensor(60...   \n",
       "4      [tensor(2), tensor(8278), tensor(4), tensor(35...   \n",
       "...                                                  ...   \n",
       "71699  [tensor(2), tensor(10685), tensor(4), tensor(2...   \n",
       "71700  [tensor(2), tensor(10685), tensor(4), tensor(7...   \n",
       "71701  [tensor(2), tensor(10685), tensor(4), tensor(8...   \n",
       "71702  [tensor(2), tensor(10685), tensor(4), tensor(6...   \n",
       "71703  [tensor(2), tensor(10685), tensor(4), tensor(8...   \n",
       "\n",
       "                                             desc_padded  \n",
       "0      [tensor(2), tensor(15427), tensor(302), tensor...  \n",
       "1      [tensor(2), tensor(15427), tensor(302), tensor...  \n",
       "2      [tensor(2), tensor(15427), tensor(97), tensor(...  \n",
       "3      [tensor(2), tensor(7741), tensor(3267), tensor...  \n",
       "4      [tensor(2), tensor(7741), tensor(4503), tensor...  \n",
       "...                                                  ...  \n",
       "71699  [tensor(2), tensor(103), tensor(139), tensor(9...  \n",
       "71700  [tensor(2), tensor(1474), tensor(70), tensor(1...  \n",
       "71701  [tensor(2), tensor(1474), tensor(70), tensor(6...  \n",
       "71702  [tensor(2), tensor(1474), tensor(70), tensor(2...  \n",
       "71703  [tensor(2), tensor(1474), tensor(70), tensor(1...  \n",
       "\n",
       "[71704 rows x 2 columns]"
      ]
     },
     "execution_count": 18,
     "metadata": {},
     "output_type": "execute_result"
    }
   ],
   "source": [
    "df2"
   ]
  },
  {
   "cell_type": "code",
   "execution_count": 19,
   "metadata": {},
   "outputs": [],
   "source": [
    "df2.to_csv(\"/home/careinfolab/Dr_Luo/Rohan/ICD_Codes/Dataset/icd10-codes-and-descriptions/Tokens_ICD2Desc.csv\")"
   ]
  },
  {
   "cell_type": "code",
   "execution_count": null,
   "metadata": {},
   "outputs": [],
   "source": []
  }
 ],
 "metadata": {
  "kernelspec": {
   "display_name": "rohanj",
   "language": "python",
   "name": "python3"
  },
  "language_info": {
   "codemirror_mode": {
    "name": "ipython",
    "version": 3
   },
   "file_extension": ".py",
   "mimetype": "text/x-python",
   "name": "python",
   "nbconvert_exporter": "python",
   "pygments_lexer": "ipython3",
   "version": "3.8.10"
  }
 },
 "nbformat": 4,
 "nbformat_minor": 2
}

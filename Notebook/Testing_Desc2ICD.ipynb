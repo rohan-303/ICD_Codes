{
 "cells": [
  {
   "cell_type": "markdown",
   "id": "59f4d4f1",
   "metadata": {},
   "source": [
    "This python Notebook tests the model with one Example"
   ]
  },
  {
   "cell_type": "code",
   "execution_count": 2,
   "id": "ee69f586",
   "metadata": {},
   "outputs": [],
   "source": [
    "import os\n",
    "import sys\n",
    "\n",
    "notebook_dir = os.getcwd() \n",
    "parent_dir = os.path.abspath(os.path.join(notebook_dir, '..'))\n",
    "sys.path.append(parent_dir)\n",
    "\n",
    "from Model_rnn import *\n",
    "import torch\n",
    "import pandas as pd"
   ]
  },
  {
   "cell_type": "code",
   "execution_count": 6,
   "id": "bab5f274",
   "metadata": {},
   "outputs": [],
   "source": [
    "df = pd.read_csv('/home/careinfolab/Dr_Luo/Rohan/ICD_Codes/Dataset/icd10-codes-and-descriptions/Tokens.csv')"
   ]
  },
  {
   "cell_type": "code",
   "execution_count": 12,
   "id": "f6fa2e73",
   "metadata": {},
   "outputs": [],
   "source": [
    "input_tensor = torch.tensor([   2, 7741, 2821, 7741, 3267,    3,    0,    0,    0,    0,    0,    0,\n",
    "           0,    0,    0,    0,    0,    0,    0,    0,    0,    0,    0,    0,\n",
    "           0,    0,    0,    0,    0,    0,    0,    0,    0,    0,    0,    0,\n",
    "           0,    0,    0,    0,    0,    0,    0,    0,    0,    0,    0,    0,\n",
    "           0,    0,    0,    0,    0,    0,    0,    0,    0,    0,    0,    0])"
   ]
  },
  {
   "cell_type": "markdown",
   "id": "a727e5aa",
   "metadata": {},
   "source": [
    "## RNN_first"
   ]
  },
  {
   "cell_type": "code",
   "execution_count": null,
   "id": "3c7e4101",
   "metadata": {},
   "outputs": [],
   "source": [
    "rnn = torch.load('/home/careinfolab/Dr_Luo/Rohan/ICD_Codes/Results/LSTM/checkpoints/best_model.pt')"
   ]
  },
  {
   "cell_type": "markdown",
   "id": "ed9d648b",
   "metadata": {},
   "source": [
    "## RNN_middle"
   ]
  },
  {
   "cell_type": "code",
   "execution_count": null,
   "id": "6bc6d728",
   "metadata": {},
   "outputs": [],
   "source": [
    "rnn = torch.load('/home/careinfolab/Dr_Luo/Rohan/ICD_Codes/Results/LSTM/checkpoints/best_model.pt')"
   ]
  },
  {
   "cell_type": "markdown",
   "id": "f66516ef",
   "metadata": {},
   "source": [
    "## RNN_Last"
   ]
  },
  {
   "cell_type": "code",
   "execution_count": null,
   "id": "0c819ef6",
   "metadata": {},
   "outputs": [],
   "source": [
    "rnn = torch.load('/home/careinfolab/Dr_Luo/Rohan/ICD_Codes/Results/LSTM/checkpoints/best_model.pt')"
   ]
  },
  {
   "cell_type": "markdown",
   "id": "f67a3e2a",
   "metadata": {},
   "source": [
    "## LSTM_first"
   ]
  },
  {
   "cell_type": "code",
   "execution_count": null,
   "id": "d96053f8",
   "metadata": {},
   "outputs": [],
   "source": [
    "rnn = torch.load('/home/careinfolab/Dr_Luo/Rohan/ICD_Codes/Results/LSTM/checkpoints/best_model.pt')"
   ]
  },
  {
   "cell_type": "markdown",
   "id": "4a2eb6a9",
   "metadata": {},
   "source": [
    "## LSTM_middle"
   ]
  },
  {
   "cell_type": "code",
   "execution_count": null,
   "id": "19a099f1",
   "metadata": {},
   "outputs": [],
   "source": [
    "rnn = torch.load('/home/careinfolab/Dr_Luo/Rohan/ICD_Codes/Results/LSTM/checkpoints/best_model.pt')"
   ]
  },
  {
   "cell_type": "markdown",
   "id": "4f82aa46",
   "metadata": {},
   "source": [
    "## LSTM_Last"
   ]
  },
  {
   "cell_type": "code",
   "execution_count": null,
   "id": "981b3407",
   "metadata": {},
   "outputs": [],
   "source": [
    "rnn = torch.load('/home/careinfolab/Dr_Luo/Rohan/ICD_Codes/Results/LSTM/checkpoints/best_model.pt')"
   ]
  },
  {
   "cell_type": "markdown",
   "id": "72f727c5",
   "metadata": {},
   "source": [
    "## GRU_first"
   ]
  },
  {
   "cell_type": "code",
   "execution_count": null,
   "id": "bda4f316",
   "metadata": {},
   "outputs": [],
   "source": [
    "rnn = torch.load('/home/careinfolab/Dr_Luo/Rohan/ICD_Codes/Results/LSTM/checkpoints/best_model.pt')"
   ]
  },
  {
   "cell_type": "markdown",
   "id": "a280af9b",
   "metadata": {},
   "source": [
    "## GRU_middle"
   ]
  },
  {
   "cell_type": "code",
   "execution_count": null,
   "id": "754f4f3b",
   "metadata": {},
   "outputs": [],
   "source": [
    "rnn = torch.load('/home/careinfolab/Dr_Luo/Rohan/ICD_Codes/Results/LSTM/checkpoints/best_model.pt')"
   ]
  },
  {
   "cell_type": "markdown",
   "id": "5d877c4b",
   "metadata": {},
   "source": [
    "## GRU_Last"
   ]
  },
  {
   "cell_type": "code",
   "execution_count": null,
   "id": "24e04ca6",
   "metadata": {},
   "outputs": [],
   "source": [
    "rnn = torch.load('/home/careinfolab/Dr_Luo/Rohan/ICD_Codes/Results/LSTM/checkpoints/best_model.pt')"
   ]
  },
  {
   "cell_type": "markdown",
   "id": "d57b3a1b",
   "metadata": {},
   "source": []
  }
 ],
 "metadata": {
  "kernelspec": {
   "display_name": "rohanj",
   "language": "python",
   "name": "python3"
  },
  "language_info": {
   "codemirror_mode": {
    "name": "ipython",
    "version": 3
   },
   "file_extension": ".py",
   "mimetype": "text/x-python",
   "name": "python",
   "nbconvert_exporter": "python",
   "pygments_lexer": "ipython3",
   "version": "3.8.10"
  }
 },
 "nbformat": 4,
 "nbformat_minor": 5
}

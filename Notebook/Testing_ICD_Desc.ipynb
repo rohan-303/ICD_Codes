{
 "cells": [
  {
   "cell_type": "code",
   "execution_count": 1,
   "id": "b2eaa6b8",
   "metadata": {},
   "outputs": [],
   "source": [
    "import torch\n",
    "import sys\n",
    "sys.path.append('/home/careinfolab/Dr_Luo/Rohan/ICD_Codes')  \n",
    "from Model_rnn import *\n",
    "from Transformer_Model import *\n",
    "from tokenizers import Tokenizer\n",
    "import pandas as pd\n",
    "from utils import *"
   ]
  },
  {
   "cell_type": "code",
   "execution_count": 2,
   "id": "20aa3385",
   "metadata": {},
   "outputs": [],
   "source": [
    "device = 'cuda' if torch.cuda.is_available() else 'cpu'"
   ]
  },
  {
   "cell_type": "code",
   "execution_count": 3,
   "id": "a8892814",
   "metadata": {},
   "outputs": [],
   "source": [
    "def load_seq_model(pth_file):\n",
    "    model = torch.load(pth_file, map_location=device) \n",
    "    model.eval()\n",
    "    return model"
   ]
  },
  {
   "cell_type": "code",
   "execution_count": null,
   "id": "94578121",
   "metadata": {},
   "outputs": [],
   "source": [
    "def decode_tokens(tokens, tokenizer,skip_special_tokens=True):\n",
    "    if skip_special_tokens:\n",
    "        return tokenizer.decode(tokens, skip_special_tokens=True)\n",
    "    else:\n",
    "        return tokenizer.decode(tokens, skip_special_tokens=False)"
   ]
  },
  {
   "cell_type": "code",
   "execution_count": 5,
   "id": "ab0d2407",
   "metadata": {},
   "outputs": [],
   "source": [
    "def predict(model, input_tensor):\n",
    "    hidden = model.rnn.init_zero_hidden(1)\n",
    "    input_tensor = input_tensor.to(device)\n",
    "    if isinstance(hidden, (list, tuple)):\n",
    "        hidden = tuple(h.to(device) for h in hidden)\n",
    "    else:\n",
    "        hidden = hidden.to(device)\n",
    "    with torch.no_grad():\n",
    "        outputs = model(input_tensor, hidden)\n",
    "    preds = outputs.argmax(dim=2)\n",
    "    return preds.squeeze(0).cpu().tolist()"
   ]
  },
  {
   "cell_type": "code",
   "execution_count": 6,
   "id": "7e0263ea",
   "metadata": {},
   "outputs": [],
   "source": [
    "def clean_pred_tokens(tokens):\n",
    "    return [t for t in tokens if t != 0]"
   ]
  },
  {
   "cell_type": "code",
   "execution_count": 4,
   "id": "0f45258c",
   "metadata": {},
   "outputs": [],
   "source": [
    "df = pd.read_csv('/home/careinfolab/Dr_Luo/Rohan/ICD_Codes/Dataset/icd10-codes-and-descriptions/Tokens_ICD2Desc.csv')\n",
    "tokenizer = Tokenizer.from_file('/home/careinfolab/Dr_Luo/Rohan/ICD_Codes/Notebook/bpe_tokenizer.json')"
   ]
  },
  {
   "cell_type": "code",
   "execution_count": 8,
   "id": "022f9cad",
   "metadata": {},
   "outputs": [
    {
     "data": {
      "text/html": [
       "<div>\n",
       "<style scoped>\n",
       "    .dataframe tbody tr th:only-of-type {\n",
       "        vertical-align: middle;\n",
       "    }\n",
       "\n",
       "    .dataframe tbody tr th {\n",
       "        vertical-align: top;\n",
       "    }\n",
       "\n",
       "    .dataframe thead th {\n",
       "        text-align: right;\n",
       "    }\n",
       "</style>\n",
       "<table border=\"1\" class=\"dataframe\">\n",
       "  <thead>\n",
       "    <tr style=\"text-align: right;\">\n",
       "      <th></th>\n",
       "      <th>Unnamed: 0</th>\n",
       "      <th>code_padded</th>\n",
       "      <th>desc_padded</th>\n",
       "    </tr>\n",
       "  </thead>\n",
       "  <tbody>\n",
       "    <tr>\n",
       "      <th>0</th>\n",
       "      <td>0</td>\n",
       "      <td>[tensor(2), tensor(13998), tensor(4), tensor(5...</td>\n",
       "      <td>[tensor(2), tensor(15427), tensor(302), tensor...</td>\n",
       "    </tr>\n",
       "    <tr>\n",
       "      <th>1</th>\n",
       "      <td>1</td>\n",
       "      <td>[tensor(2), tensor(13998), tensor(4), tensor(6...</td>\n",
       "      <td>[tensor(2), tensor(15427), tensor(302), tensor...</td>\n",
       "    </tr>\n",
       "    <tr>\n",
       "      <th>2</th>\n",
       "      <td>2</td>\n",
       "      <td>[tensor(2), tensor(13998), tensor(4), tensor(1...</td>\n",
       "      <td>[tensor(2), tensor(15427), tensor(97), tensor(...</td>\n",
       "    </tr>\n",
       "    <tr>\n",
       "      <th>3</th>\n",
       "      <td>3</td>\n",
       "      <td>[tensor(2), tensor(8278), tensor(4), tensor(60...</td>\n",
       "      <td>[tensor(2), tensor(7741), tensor(3267), tensor...</td>\n",
       "    </tr>\n",
       "    <tr>\n",
       "      <th>4</th>\n",
       "      <td>4</td>\n",
       "      <td>[tensor(2), tensor(8278), tensor(4), tensor(35...</td>\n",
       "      <td>[tensor(2), tensor(7741), tensor(4503), tensor...</td>\n",
       "    </tr>\n",
       "  </tbody>\n",
       "</table>\n",
       "</div>"
      ],
      "text/plain": [
       "   Unnamed: 0                                        code_padded  \\\n",
       "0           0  [tensor(2), tensor(13998), tensor(4), tensor(5...   \n",
       "1           1  [tensor(2), tensor(13998), tensor(4), tensor(6...   \n",
       "2           2  [tensor(2), tensor(13998), tensor(4), tensor(1...   \n",
       "3           3  [tensor(2), tensor(8278), tensor(4), tensor(60...   \n",
       "4           4  [tensor(2), tensor(8278), tensor(4), tensor(35...   \n",
       "\n",
       "                                         desc_padded  \n",
       "0  [tensor(2), tensor(15427), tensor(302), tensor...  \n",
       "1  [tensor(2), tensor(15427), tensor(302), tensor...  \n",
       "2  [tensor(2), tensor(15427), tensor(97), tensor(...  \n",
       "3  [tensor(2), tensor(7741), tensor(3267), tensor...  \n",
       "4  [tensor(2), tensor(7741), tensor(4503), tensor...  "
      ]
     },
     "execution_count": 8,
     "metadata": {},
     "output_type": "execute_result"
    }
   ],
   "source": [
    "df.head(5)"
   ]
  },
  {
   "cell_type": "code",
   "execution_count": 9,
   "id": "3ec2aa3e",
   "metadata": {},
   "outputs": [],
   "source": [
    "df[\"desc_padded\"] = df[\"desc_padded\"].apply(lambda x: torch.tensor(extract_tensor_ids(x)))\n",
    "df[\"code_padded\"] = df[\"code_padded\"].apply(lambda x: torch.tensor(extract_tensor_ids(x)))"
   ]
  },
  {
   "cell_type": "code",
   "execution_count": 10,
   "id": "2e964f57",
   "metadata": {},
   "outputs": [],
   "source": [
    "example_idx = 1250\n",
    "source_tensor = df.loc[example_idx, 'code_padded'].unsqueeze(0)\n",
    "target_tensor = df.loc[example_idx, 'desc_padded']"
   ]
  },
  {
   "cell_type": "code",
   "execution_count": 11,
   "id": "71866648",
   "metadata": {},
   "outputs": [],
   "source": [
    "vocab_size = max([seq.max().item() for seq in df[\"desc_padded\"]]) + 1\n",
    "output_size = max([seq.max().item() for seq in df[\"code_padded\"]]) + 1"
   ]
  },
  {
   "cell_type": "code",
   "execution_count": 12,
   "id": "32153ab6",
   "metadata": {},
   "outputs": [
    {
     "name": "stdout",
     "output_type": "stream",
     "text": [
      "\n",
      "Example Sample:\n",
      "Source tensor: tensor([[   2, 6670,    4,  276,    3,    0,    0,    0,    0,    0,    0,    0,\n",
      "            0,    0,    0,    0,    0,    0,    0,    0,    0,    0,    0,    0,\n",
      "            0,    0,    0,    0,    0,    0,    0,    0,    0,    0,    0,    0,\n",
      "            0,    0,    0,    0,    0,    0,    0,    0,    0,    0,    0,    0,\n",
      "            0,    0,    0,    0,    0,    0,    0,    0,    0,    0,    0,    0]])\n",
      "Target tensor: tensor([   2,  749, 3202,   67,  127,  903, 1087, 3920,  749, 3202,   67,  903,\n",
      "        1087, 3920,    3,    0,    0,    0,    0,    0,    0,    0,    0,    0,\n",
      "           0,    0,    0,    0,    0,    0,    0,    0,    0,    0,    0,    0,\n",
      "           0,    0,    0,    0,    0,    0,    0,    0,    0,    0,    0,    0,\n",
      "           0,    0,    0,    0,    0,    0,    0,    0,    0,    0,    0,    0])\n"
     ]
    }
   ],
   "source": [
    "print(\"\\nExample Sample:\")\n",
    "print(f\"Source tensor: {source_tensor}\")\n",
    "print(f\"Target tensor: {target_tensor}\")"
   ]
  },
  {
   "cell_type": "code",
   "execution_count": 13,
   "id": "ccd87698",
   "metadata": {},
   "outputs": [
    {
     "name": "stdout",
     "output_type": "stream",
     "text": [
      "Source   : C43 . 12\n",
      "Target   : malignant melanoma of left eyelid including canthus malignant melanoma of eyelid including canthus\n"
     ]
    }
   ],
   "source": [
    "print(f\"Source   : {decode_tokens(df.loc[example_idx, 'code_padded'].tolist(), tokenizer)}\")\n",
    "print(f\"Target   : {decode_tokens(df.loc[example_idx, 'desc_padded'].tolist(), tokenizer)}\")"
   ]
  },
  {
   "cell_type": "code",
   "execution_count": 14,
   "id": "281d1b2f",
   "metadata": {},
   "outputs": [],
   "source": [
    "models_info = {\n",
    "    'RNN': '/home/careinfolab/Dr_Luo/Rohan/ICD_Codes/Results/ICD_to_Desc/RNN/checkpoints/best_model.pt',\n",
    "    'LSTM': '/home/careinfolab/Dr_Luo/Rohan/ICD_Codes/Results/ICD_to_Desc/LSTM/checkpoints/best_model.pt',\n",
    "    'GRU': '/home/careinfolab/Dr_Luo/Rohan/ICD_Codes/Results/ICD_to_Desc/GRU/checkpoints/best_model.pt',\n",
    "    'DeepRNN': '/home/careinfolab/Dr_Luo/Rohan/ICD_Codes/Results/ICD_to_Desc/DeeepRNN/checkpoints/best_model.pt',\n",
    "    'DeepLSTM': '/home/careinfolab/Dr_Luo/Rohan/ICD_Codes/Results/ICD_to_Desc/DeepLSTM/checkpoints/best_model.pt',\n",
    "    'DeepGRU': '/home/careinfolab/Dr_Luo/Rohan/ICD_Codes/Results/ICD_to_Desc/DeepGRU/checkpoints/best_model.pt',\n",
    "    'BiRNN': '/home/careinfolab/Dr_Luo/Rohan/ICD_Codes/Results/ICD_to_Desc/BiRNN/checkpoints/best_model.pt',\n",
    "    'BiLSTM': '/home/careinfolab/Dr_Luo/Rohan/ICD_Codes/Results/ICD_to_Desc/BiLSTM/checkpoints/best_model.pt',\n",
    "    'BiGRU': '/home/careinfolab/Dr_Luo/Rohan/ICD_Codes/Results/ICD_to_Desc/BiGRU/checkpoints/best_model.pt'\n",
    "}"
   ]
  },
  {
   "cell_type": "code",
   "execution_count": 15,
   "id": "0b2b1804",
   "metadata": {},
   "outputs": [
    {
     "name": "stdout",
     "output_type": "stream",
     "text": [
      "\n",
      " Example:\n",
      "Source   : C43 . 12\n",
      "Target   : malignant melanoma of left eyelid including canthus malignant melanoma of eyelid including canthus\n",
      "\n",
      " Model Predictions:\n"
     ]
    },
    {
     "name": "stderr",
     "output_type": "stream",
     "text": [
      "/tmp/ipykernel_1181797/3186428091.py:2: FutureWarning: You are using `torch.load` with `weights_only=False` (the current default value), which uses the default pickle module implicitly. It is possible to construct malicious pickle data which will execute arbitrary code during unpickling (See https://github.com/pytorch/pytorch/blob/main/SECURITY.md#untrusted-models for more details). In a future release, the default value for `weights_only` will be flipped to `True`. This limits the functions that could be executed during unpickling. Arbitrary objects will no longer be allowed to be loaded via this mode unless they are explicitly allowlisted by the user via `torch.serialization.add_safe_globals`. We recommend you start setting `weights_only=True` for any use case where you don't have full control of the loaded file. Please open an issue on GitHub for any issues related to this experimental feature.\n",
      "  model = torch.load(pth_file, map_location=device)\n"
     ]
    },
    {
     "name": "stdout",
     "output_type": "stream",
     "text": [
      "RNN Predicted: malignant melanoma of right part including canthus of melanoma of of including canthus including external canal male canal testis gland gland or or causing causing causing water water water water\n",
      "LSTM Predicted: malignant melanoma of left eyelid including canthus malignant melanoma of eyelid eyelid including of eyelid of of\n",
      "GRU Predicted: malignant melanoma of left eyelid including canthus malignant melanoma of eyelid including canthus\n",
      "DeepRNN Predicted: malignant melanoma of left upper including canthus cell melanoma of skin upper of external auricular hand hand hand hand site site site site ankle ankle ankle ankle foot foot\n",
      "DeepLSTM Predicted: malignant melanoma of left eyelid including canthus malignant melanoma of eyelid including canthus and and\n",
      "DeepGRU Predicted: malignant melanoma of left eyelid including canthus melanoma melanoma of eyelid and canthus of scalp\n",
      "BiRNN Predicted: malignant melanoma of unspecified unspecified limb external auricular melanoma of of of limb including of auricular auricular canal or posterior artery artery carotid carotid artery or or artery loss and limb loss external artery death artery artery or artery artery with cerebral cerebral\n",
      "BiLSTM Predicted: malignant melanoma of left eyelid including canthus malignant melanoma of eyelid including canthus\n",
      "BiGRU Predicted: malignant melanoma of left eyelid including canthus melanoma melanoma of eyelid including canthus\n"
     ]
    }
   ],
   "source": [
    "print(\"\\n Example:\")\n",
    "print(f\"Source   : {decode_tokens(df.loc[example_idx, 'code_padded'].tolist(), tokenizer)}\")\n",
    "print(f\"Target   : {decode_tokens(df.loc[example_idx, 'desc_padded'].tolist(), tokenizer)}\")\n",
    "\n",
    "print(\"\\n Model Predictions:\")\n",
    "for model_name, model_path in models_info.items():\n",
    "    model = load_seq_model(model_path)\n",
    "    pred_tokens = predict(model, source_tensor)\n",
    "    pred_tokens = clean_pred_tokens(pred_tokens)\n",
    "    pred_text = decode_tokens(pred_tokens, tokenizer)\n",
    "    print(f\"{model_name} Predicted: {pred_text}\")"
   ]
  },
  {
   "cell_type": "markdown",
   "id": "e61e2f24",
   "metadata": {},
   "source": [
    "# Transformer"
   ]
  },
  {
   "cell_type": "code",
   "execution_count": 5,
   "id": "23db93a0",
   "metadata": {},
   "outputs": [],
   "source": [
    "df = pd.read_csv('/home/careinfolab/Dr_Luo/Rohan/ICD_Codes/Dataset/icd10-codes-and-descriptions/Codes&Desc_cleaned.csv')"
   ]
  },
  {
   "cell_type": "code",
   "execution_count": 6,
   "id": "4abe5199",
   "metadata": {},
   "outputs": [
    {
     "name": "stdout",
     "output_type": "stream",
     "text": [
      "Preprocessing and tokenizing dataset...\n"
     ]
    },
    {
     "name": "stderr",
     "output_type": "stream",
     "text": [
      "Tokenizing: 100%|██████████| 1/1 [00:00<00:00, 1119.97it/s]"
     ]
    },
    {
     "name": "stdout",
     "output_type": "stream",
     "text": [
      "Loaded 1 valid examples.\n",
      "Raw Tensors:\n",
      "Encoder Input IDs: tensor([   2,    2, 6670,    4,  276,    3,    2,    2,    2,    2,    2,    2,\n",
      "           2,    2,    2,    2,    2,    2,    2,    2,    2,    2,    2,    2,\n",
      "           2,    2,    2,    2,    2,    2,    2,    2,    2,    2,    2,    2,\n",
      "           2,    2,    2,    2,    2,    2,    2,    2,    2,    2,    2,    2,\n",
      "           2,    2,    2,    2,    2,    2,    2,    2,    2,    2,    2,    2,\n",
      "           2,    2,    2,    2,    2,    2,    2,    2,    2,    2,    2,    2,\n",
      "           2,    2,    2,    2,    2,    2,    2,    2,    2,    2,    2,    2,\n",
      "           2,    2,    2,    2,    2,    2,    2,    2,    2,    2,    2,    2,\n",
      "           2,    2,    2,    2,    2,    2,    2,    2,    2,    2,    2,    2,\n",
      "           2,    2,    2,    2,    2,    2,    2,    2,    2,    2,    2,    2,\n",
      "           2,    2,    2,    2,    2,    2,    2,    2])\n",
      "Decoder Input IDs: tensor([   2,    2,  749, 3202,   67,  127,  903, 1087, 3920,  749, 3202,   67,\n",
      "         903, 1087, 3920,    3,    2,    2,    2,    2,    2,    2,    2,    2,\n",
      "           2,    2,    2,    2,    2,    2,    2,    2,    2,    2,    2,    2,\n",
      "           2,    2,    2,    2,    2,    2,    2,    2,    2,    2,    2,    2,\n",
      "           2,    2,    2,    2,    2,    2,    2,    2,    2,    2,    2,    2,\n",
      "           2,    2,    2,    2,    2,    2,    2,    2,    2,    2,    2,    2,\n",
      "           2,    2,    2,    2,    2,    2,    2,    2,    2,    2,    2,    2,\n",
      "           2,    2,    2,    2,    2,    2,    2,    2,    2,    2,    2,    2,\n",
      "           2,    2,    2,    2,    2,    2,    2,    2,    2,    2,    2,    2,\n",
      "           2,    2,    2,    2,    2,    2,    2,    2,    2,    2,    2,    2,\n",
      "           2,    2,    2,    2,    2,    2,    2,    2])\n",
      "Encoder Mask Shape: torch.Size([1, 1, 128])\n",
      "Decoder Mask Shape: torch.Size([1, 128, 128])\n",
      "Target Labels IDs: tensor([   2,  749, 3202,   67,  127,  903, 1087, 3920,  749, 3202,   67,  903,\n",
      "        1087, 3920,    3,    2,    2,    2,    2,    2,    2,    2,    2,    2,\n",
      "           2,    2,    2,    2,    2,    2,    2,    2,    2,    2,    2,    2,\n",
      "           2,    2,    2,    2,    2,    2,    2,    2,    2,    2,    2,    2,\n",
      "           2,    2,    2,    2,    2,    2,    2,    2,    2,    2,    2,    2,\n",
      "           2,    2,    2,    2,    2,    2,    2,    2,    2,    2,    2,    2,\n",
      "           2,    2,    2,    2,    2,    2,    2,    2,    2,    2,    2,    2,\n",
      "           2,    2,    2,    2,    2,    2,    2,    2,    2,    2,    2,    2,\n",
      "           2,    2,    2,    2,    2,    2,    2,    2,    2,    2,    2,    2,\n",
      "           2,    2,    2,    2,    2,    2,    2,    2,    2,    2,    2,    2,\n",
      "           2,    2,    2,    2,    2,    2,    2,    2])\n",
      "\n",
      "Text Decoding:\n",
      "Source Text: C43.12\n",
      "Target Text: malignant melanoma of left eyelid including canthus malignant melanoma of eyelid including canthus\n",
      "\n",
      "Decoded Encoder Text (input to model): [SOS] [SOS] C43 . 12 [EOS] [SOS] [SOS] [SOS] [SOS] [SOS] [SOS] [SOS] [SOS] [SOS] [SOS] [SOS] [SOS] [SOS] [SOS] [SOS] [SOS] [SOS] [SOS] [SOS] [SOS] [SOS] [SOS] [SOS] [SOS] [SOS] [SOS] [SOS] [SOS] [SOS] [SOS] [SOS] [SOS] [SOS] [SOS] [SOS] [SOS] [SOS] [SOS] [SOS] [SOS] [SOS] [SOS] [SOS] [SOS] [SOS] [SOS] [SOS] [SOS] [SOS] [SOS] [SOS] [SOS] [SOS] [SOS] [SOS] [SOS] [SOS] [SOS] [SOS] [SOS] [SOS] [SOS] [SOS] [SOS] [SOS] [SOS] [SOS] [SOS] [SOS] [SOS] [SOS] [SOS] [SOS] [SOS] [SOS] [SOS] [SOS] [SOS] [SOS] [SOS] [SOS] [SOS] [SOS] [SOS] [SOS] [SOS] [SOS] [SOS] [SOS] [SOS] [SOS] [SOS] [SOS] [SOS] [SOS] [SOS] [SOS] [SOS] [SOS] [SOS] [SOS] [SOS] [SOS] [SOS] [SOS] [SOS] [SOS] [SOS] [SOS] [SOS] [SOS] [SOS] [SOS] [SOS] [SOS] [SOS] [SOS] [SOS] [SOS] [SOS] [SOS] [SOS]\n",
      "Decoded Decoder Text (input to model decoder): [SOS] [SOS] malignant melanoma of left eyelid including canthus malignant melanoma of eyelid including canthus [EOS] [SOS] [SOS] [SOS] [SOS] [SOS] [SOS] [SOS] [SOS] [SOS] [SOS] [SOS] [SOS] [SOS] [SOS] [SOS] [SOS] [SOS] [SOS] [SOS] [SOS] [SOS] [SOS] [SOS] [SOS] [SOS] [SOS] [SOS] [SOS] [SOS] [SOS] [SOS] [SOS] [SOS] [SOS] [SOS] [SOS] [SOS] [SOS] [SOS] [SOS] [SOS] [SOS] [SOS] [SOS] [SOS] [SOS] [SOS] [SOS] [SOS] [SOS] [SOS] [SOS] [SOS] [SOS] [SOS] [SOS] [SOS] [SOS] [SOS] [SOS] [SOS] [SOS] [SOS] [SOS] [SOS] [SOS] [SOS] [SOS] [SOS] [SOS] [SOS] [SOS] [SOS] [SOS] [SOS] [SOS] [SOS] [SOS] [SOS] [SOS] [SOS] [SOS] [SOS] [SOS] [SOS] [SOS] [SOS] [SOS] [SOS] [SOS] [SOS] [SOS] [SOS] [SOS] [SOS] [SOS] [SOS] [SOS] [SOS] [SOS] [SOS] [SOS] [SOS] [SOS] [SOS] [SOS] [SOS] [SOS] [SOS] [SOS] [SOS] [SOS]\n",
      "Decoded Target Text (true labels): [SOS] malignant melanoma of left eyelid including canthus malignant melanoma of eyelid including canthus [EOS] [SOS] [SOS] [SOS] [SOS] [SOS] [SOS] [SOS] [SOS] [SOS] [SOS] [SOS] [SOS] [SOS] [SOS] [SOS] [SOS] [SOS] [SOS] [SOS] [SOS] [SOS] [SOS] [SOS] [SOS] [SOS] [SOS] [SOS] [SOS] [SOS] [SOS] [SOS] [SOS] [SOS] [SOS] [SOS] [SOS] [SOS] [SOS] [SOS] [SOS] [SOS] [SOS] [SOS] [SOS] [SOS] [SOS] [SOS] [SOS] [SOS] [SOS] [SOS] [SOS] [SOS] [SOS] [SOS] [SOS] [SOS] [SOS] [SOS] [SOS] [SOS] [SOS] [SOS] [SOS] [SOS] [SOS] [SOS] [SOS] [SOS] [SOS] [SOS] [SOS] [SOS] [SOS] [SOS] [SOS] [SOS] [SOS] [SOS] [SOS] [SOS] [SOS] [SOS] [SOS] [SOS] [SOS] [SOS] [SOS] [SOS] [SOS] [SOS] [SOS] [SOS] [SOS] [SOS] [SOS] [SOS] [SOS] [SOS] [SOS] [SOS] [SOS] [SOS] [SOS] [SOS] [SOS] [SOS] [SOS] [SOS] [SOS] [SOS] [SOS] [SOS]\n"
     ]
    },
    {
     "name": "stderr",
     "output_type": "stream",
     "text": [
      "\n"
     ]
    }
   ],
   "source": [
    "single_df = df.iloc[[1250]]  \n",
    "\n",
    "single_dataset = TransformerDataset(single_df, tokenizer, 'ICD_Code', 'Description', seq_len=128)\n",
    "\n",
    "sample = single_dataset[0]\n",
    "\n",
    "encoder_input = sample['encoder_input']\n",
    "decoder_input = sample['decoder_input']\n",
    "encoder_mask = sample['encoder_mask']\n",
    "decoder_mask = sample['decoder_mask']\n",
    "label = sample['label']\n",
    "src_text = sample['src_text']\n",
    "tgt_text = sample['tgt_text']\n",
    "\n",
    "print(\"Raw Tensors:\")\n",
    "print(f\"Encoder Input IDs: {encoder_input}\")\n",
    "print(f\"Decoder Input IDs: {decoder_input}\")\n",
    "print(f\"Encoder Mask Shape: {encoder_mask.shape}\")\n",
    "print(f\"Decoder Mask Shape: {decoder_mask.shape}\")\n",
    "print(f\"Target Labels IDs: {label}\")\n",
    "\n",
    "print(\"\\nText Decoding:\")\n",
    "encoder_text = tokenizer.decode(encoder_input.tolist(), skip_special_tokens=False)\n",
    "decoder_text = tokenizer.decode(decoder_input.tolist(), skip_special_tokens=False)\n",
    "target_text = tokenizer.decode(label.tolist(), skip_special_tokens=False)\n",
    "\n",
    "print(f\"Source Text: {src_text}\")\n",
    "print(f\"Target Text: {tgt_text}\")\n",
    "\n",
    "print(f\"\\nDecoded Encoder Text (input to model): {encoder_text}\")\n",
    "print(f\"Decoded Decoder Text (input to model decoder): {decoder_text}\")\n",
    "print(f\"Decoded Target Text (true labels): {target_text}\")\n",
    "\n"
   ]
  },
  {
   "cell_type": "code",
   "execution_count": 7,
   "id": "51c13467",
   "metadata": {},
   "outputs": [],
   "source": [
    "def predict_transformer(model, sample, tokenizer):\n",
    "    model.eval()\n",
    "    encoder_input = sample['encoder_input'].unsqueeze(0).to(device)\n",
    "    encoder_mask = sample['encoder_mask'].to(device)\n",
    "    pad_token_id = tokenizer.token_to_id(\"[PAD]\")\n",
    "    sos_token_id = tokenizer.token_to_id(\"[SOS]\")\n",
    "    eos_token_id = tokenizer.token_to_id(\"[EOS]\")\n",
    "    decoder_input = torch.tensor([[sos_token_id]], device=device)\n",
    "    generated_tokens = []\n",
    "    target_tokens = sample['label']\n",
    "    max_len = target_tokens.size(0) if target_tokens is not None else encoder_input.size(1)\n",
    "    for _ in range(max_len):\n",
    "        tgt_mask = (decoder_input != pad_token_id).unsqueeze(0).int() & causal_mask(decoder_input.size(1)).to(device)\n",
    "        with torch.no_grad():\n",
    "            encoder_output = model.encode(encoder_input, encoder_mask)\n",
    "            decoder_output = model.decode(encoder_output, encoder_mask, decoder_input, tgt_mask)\n",
    "            proj_output = model.project(decoder_output)\n",
    "        next_token_logits = proj_output[:, -1, :]  \n",
    "        next_token = next_token_logits.argmax(dim=-1) \n",
    "        if next_token.item() == eos_token_id:\n",
    "            break\n",
    "        generated_tokens.append(next_token.item())\n",
    "        decoder_input = torch.cat([decoder_input, next_token.unsqueeze(0)], dim=1)\n",
    "    return generated_tokens"
   ]
  },
  {
   "cell_type": "code",
   "execution_count": 8,
   "id": "7bd751ad",
   "metadata": {},
   "outputs": [
    {
     "name": "stderr",
     "output_type": "stream",
     "text": [
      "/tmp/ipykernel_2716201/2714122193.py:1: FutureWarning: You are using `torch.load` with `weights_only=False` (the current default value), which uses the default pickle module implicitly. It is possible to construct malicious pickle data which will execute arbitrary code during unpickling (See https://github.com/pytorch/pytorch/blob/main/SECURITY.md#untrusted-models for more details). In a future release, the default value for `weights_only` will be flipped to `True`. This limits the functions that could be executed during unpickling. Arbitrary objects will no longer be allowed to be loaded via this mode unless they are explicitly allowlisted by the user via `torch.serialization.add_safe_globals`. We recommend you start setting `weights_only=True` for any use case where you don't have full control of the loaded file. Please open an issue on GitHub for any issues related to this experimental feature.\n",
      "  model = torch.load('/home/careinfolab/Dr_Luo/Rohan/ICD_Codes/Results/ICD_to_Desc/Transformer/checkpoints/best_model.pt', map_location=device)\n"
     ]
    },
    {
     "data": {
      "text/plain": [
       "Transformer(\n",
       "  (encoder): Encoder(\n",
       "    (layers): ModuleList(\n",
       "      (0-1): 2 x EncoderBlock(\n",
       "        (self_attn): MultiHeadAttentionBlock(\n",
       "          (w_q): Linear(in_features=128, out_features=128, bias=False)\n",
       "          (w_k): Linear(in_features=128, out_features=128, bias=False)\n",
       "          (w_v): Linear(in_features=128, out_features=128, bias=False)\n",
       "          (w_o): Linear(in_features=128, out_features=128, bias=False)\n",
       "          (dropout): Dropout(p=0.1621432760448518, inplace=False)\n",
       "        )\n",
       "        (ff): FeedForwardBlock(\n",
       "          (linear_1): Linear(in_features=128, out_features=2048, bias=True)\n",
       "          (dropout): Dropout(p=0.1621432760448518, inplace=False)\n",
       "          (linear_2): Linear(in_features=2048, out_features=128, bias=True)\n",
       "        )\n",
       "        (res_conns): ModuleList(\n",
       "          (0-1): 2 x ResidualConnection(\n",
       "            (dropout): Dropout(p=0.1621432760448518, inplace=False)\n",
       "            (norm): LayerNormalization()\n",
       "          )\n",
       "        )\n",
       "      )\n",
       "    )\n",
       "    (norm): LayerNormalization()\n",
       "  )\n",
       "  (decoder): Decoder(\n",
       "    (layers): ModuleList(\n",
       "      (0-1): 2 x DecoderBlock(\n",
       "        (self_attn): MultiHeadAttentionBlock(\n",
       "          (w_q): Linear(in_features=128, out_features=128, bias=False)\n",
       "          (w_k): Linear(in_features=128, out_features=128, bias=False)\n",
       "          (w_v): Linear(in_features=128, out_features=128, bias=False)\n",
       "          (w_o): Linear(in_features=128, out_features=128, bias=False)\n",
       "          (dropout): Dropout(p=0.1621432760448518, inplace=False)\n",
       "        )\n",
       "        (cross_attn): MultiHeadAttentionBlock(\n",
       "          (w_q): Linear(in_features=128, out_features=128, bias=False)\n",
       "          (w_k): Linear(in_features=128, out_features=128, bias=False)\n",
       "          (w_v): Linear(in_features=128, out_features=128, bias=False)\n",
       "          (w_o): Linear(in_features=128, out_features=128, bias=False)\n",
       "          (dropout): Dropout(p=0.1621432760448518, inplace=False)\n",
       "        )\n",
       "        (ff): FeedForwardBlock(\n",
       "          (linear_1): Linear(in_features=128, out_features=2048, bias=True)\n",
       "          (dropout): Dropout(p=0.1621432760448518, inplace=False)\n",
       "          (linear_2): Linear(in_features=2048, out_features=128, bias=True)\n",
       "        )\n",
       "        (res_conns): ModuleList(\n",
       "          (0-2): 3 x ResidualConnection(\n",
       "            (dropout): Dropout(p=0.1621432760448518, inplace=False)\n",
       "            (norm): LayerNormalization()\n",
       "          )\n",
       "        )\n",
       "      )\n",
       "    )\n",
       "    (norm): LayerNormalization()\n",
       "  )\n",
       "  (src_embed): InputEmbeddings(\n",
       "    (embedding): Embedding(25932, 128)\n",
       "  )\n",
       "  (tgt_embed): InputEmbeddings(\n",
       "    (embedding): Embedding(25932, 128)\n",
       "  )\n",
       "  (src_pos): PositionalEncoding(\n",
       "    (dropout): Dropout(p=0.1621432760448518, inplace=False)\n",
       "  )\n",
       "  (tgt_pos): PositionalEncoding(\n",
       "    (dropout): Dropout(p=0.1621432760448518, inplace=False)\n",
       "  )\n",
       "  (proj): ProjectionLayer(\n",
       "    (proj): Linear(in_features=128, out_features=25932, bias=True)\n",
       "  )\n",
       ")"
      ]
     },
     "execution_count": 8,
     "metadata": {},
     "output_type": "execute_result"
    }
   ],
   "source": [
    "model = torch.load('/home/careinfolab/Dr_Luo/Rohan/ICD_Codes/Results/ICD_to_Desc/Transformer/checkpoints/best_model.pt', map_location=device) \n",
    "model.to(device)\n",
    "model.eval()"
   ]
  },
  {
   "cell_type": "code",
   "execution_count": 9,
   "id": "49c2d98a",
   "metadata": {},
   "outputs": [
    {
     "name": "stdout",
     "output_type": "stream",
     "text": [
      "\n",
      "Example:\n",
      "Source: C43 . 12\n",
      "Target: malignant melanoma of left eyelid including canthus malignant melanoma of eyelid including canthus\n",
      "Prediction : malignant melanoma of left eyelid including canthus malignant melanoma of eyelid including canthus\n"
     ]
    }
   ],
   "source": [
    "encoder_input = sample['encoder_input']\n",
    "target_tokens = sample['label']\n",
    "\n",
    "print(\"\\nExample:\")\n",
    "source_text = tokenizer.decode(encoder_input.tolist(), skip_special_tokens=True)\n",
    "print(\"Source:\", source_text)\n",
    "target_text = tokenizer.decode(target_tokens.tolist(), skip_special_tokens=True)\n",
    "print(\"Target:\", target_text)\n",
    "pred_tokens = predict_transformer(model, sample, tokenizer)\n",
    "pred_text = tokenizer.decode(pred_tokens, skip_special_tokens=True)\n",
    "print(f\"Prediction : {pred_text}\")"
   ]
  },
  {
   "cell_type": "code",
   "execution_count": null,
   "id": "f1842afb",
   "metadata": {},
   "outputs": [],
   "source": []
  }
 ],
 "metadata": {
  "kernelspec": {
   "display_name": "rohanj",
   "language": "python",
   "name": "python3"
  },
  "language_info": {
   "codemirror_mode": {
    "name": "ipython",
    "version": 3
   },
   "file_extension": ".py",
   "mimetype": "text/x-python",
   "name": "python",
   "nbconvert_exporter": "python",
   "pygments_lexer": "ipython3",
   "version": "3.8.10"
  }
 },
 "nbformat": 4,
 "nbformat_minor": 5
}

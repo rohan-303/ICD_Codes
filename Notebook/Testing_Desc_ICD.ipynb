{
 "cells": [
  {
   "cell_type": "code",
   "execution_count": 1,
   "id": "3815bfe2",
   "metadata": {},
   "outputs": [],
   "source": [
    "\n",
    "import torch\n",
    "import sys\n",
    "sys.path.append('/home/careinfolab/Dr_Luo/Rohan/ICD_Codes')  \n",
    "from Model_rnn import *\n",
    "from Transformer_Model import *\n",
    "from tokenizers import Tokenizer\n",
    "import pandas as pd\n",
    "from utils import *"
   ]
  },
  {
   "cell_type": "code",
   "execution_count": 2,
   "id": "df266a67",
   "metadata": {},
   "outputs": [],
   "source": [
    "device = 'cuda' if torch.cuda.is_available() else 'cpu'"
   ]
  },
  {
   "cell_type": "code",
   "execution_count": 3,
   "id": "097eda48",
   "metadata": {},
   "outputs": [],
   "source": [
    "def load_seq_model(pth_file):\n",
    "    model = torch.load(pth_file, map_location=device) \n",
    "    model.eval()\n",
    "    return model"
   ]
  },
  {
   "cell_type": "code",
   "execution_count": 4,
   "id": "1c69308b",
   "metadata": {},
   "outputs": [],
   "source": [
    "def decode_tokens(tokens, tokenizer,skip_special_tokens=True):\n",
    "    if skip_special_tokens:\n",
    "        return tokenizer.decode(tokens, skip_special_tokens=True)\n",
    "    else:\n",
    "        return tokenizer.decode(tokens, skip_special_tokens=False)"
   ]
  },
  {
   "cell_type": "code",
   "execution_count": 5,
   "id": "4b427f8d",
   "metadata": {},
   "outputs": [],
   "source": [
    "def predict(model, input_tensor,target_tensor, pred=\"full\"):\n",
    "    model.eval()\n",
    "    hidden = model.rnn.init_zero_hidden(1)\n",
    "    input_tensor = input_tensor.to(device)\n",
    "\n",
    "    if isinstance(hidden, (list, tuple)):\n",
    "        hidden = tuple(h.to(device) for h in hidden)\n",
    "    else:\n",
    "        hidden = hidden.to(device)\n",
    "\n",
    "    with torch.no_grad():\n",
    "        outputs = model(input_tensor, hidden)\n",
    "\n",
    "    min_len = target_tensor.size(0)\n",
    "    if pred.lower() == 'first':\n",
    "        pred_logits = outputs[:, :min_len, :]\n",
    "    elif pred.lower() == 'middle':\n",
    "        mid = min_len // 2\n",
    "        start = mid - 1\n",
    "        end = mid + 2\n",
    "        pred_logits = outputs[:, start:end, :]\n",
    "    elif pred.lower() == 'last':\n",
    "        pred_logits = outputs[:, -min_len:, :]\n",
    "    elif pred.lower() == 'full':\n",
    "        pred_logits = outputs\n",
    "    else:\n",
    "        raise ValueError(\"Invalid pred type. Choose from: first, middle, last, full\")\n",
    "\n",
    "    preds = pred_logits.argmax(dim=2)\n",
    "    return preds.squeeze(0).cpu().tolist()\n"
   ]
  },
  {
   "cell_type": "code",
   "execution_count": 6,
   "id": "032e2eb4",
   "metadata": {},
   "outputs": [],
   "source": [
    "def clean_pred_tokens(tokens):\n",
    "    return [t for t in tokens if t != 0]"
   ]
  },
  {
   "cell_type": "code",
   "execution_count": 7,
   "id": "3d0b8ef9",
   "metadata": {},
   "outputs": [],
   "source": [
    "df = pd.read_csv('/home/careinfolab/Dr_Luo/Rohan/ICD_Codes/Dataset/icd10-codes-and-descriptions/Tokens.csv')\n",
    "tokenizer = Tokenizer.from_file('/home/careinfolab/Dr_Luo/Rohan/ICD_Codes/Notebook/bpe_tokenizer.json')"
   ]
  },
  {
   "cell_type": "code",
   "execution_count": 8,
   "id": "e300a9a0",
   "metadata": {},
   "outputs": [
    {
     "data": {
      "text/html": [
       "<div>\n",
       "<style scoped>\n",
       "    .dataframe tbody tr th:only-of-type {\n",
       "        vertical-align: middle;\n",
       "    }\n",
       "\n",
       "    .dataframe tbody tr th {\n",
       "        vertical-align: top;\n",
       "    }\n",
       "\n",
       "    .dataframe thead th {\n",
       "        text-align: right;\n",
       "    }\n",
       "</style>\n",
       "<table border=\"1\" class=\"dataframe\">\n",
       "  <thead>\n",
       "    <tr style=\"text-align: right;\">\n",
       "      <th></th>\n",
       "      <th>Unnamed: 0</th>\n",
       "      <th>code_padded</th>\n",
       "      <th>desc_padded</th>\n",
       "    </tr>\n",
       "  </thead>\n",
       "  <tbody>\n",
       "    <tr>\n",
       "      <th>0</th>\n",
       "      <td>0</td>\n",
       "      <td>[tensor(2), tensor(13998), tensor(4), tensor(5...</td>\n",
       "      <td>[tensor(2), tensor(15427), tensor(302), tensor...</td>\n",
       "    </tr>\n",
       "    <tr>\n",
       "      <th>1</th>\n",
       "      <td>1</td>\n",
       "      <td>[tensor(2), tensor(13998), tensor(4), tensor(6...</td>\n",
       "      <td>[tensor(2), tensor(15427), tensor(302), tensor...</td>\n",
       "    </tr>\n",
       "    <tr>\n",
       "      <th>2</th>\n",
       "      <td>2</td>\n",
       "      <td>[tensor(2), tensor(13998), tensor(4), tensor(1...</td>\n",
       "      <td>[tensor(2), tensor(15427), tensor(97), tensor(...</td>\n",
       "    </tr>\n",
       "    <tr>\n",
       "      <th>3</th>\n",
       "      <td>3</td>\n",
       "      <td>[tensor(2), tensor(8278), tensor(4), tensor(60...</td>\n",
       "      <td>[tensor(2), tensor(7741), tensor(3267), tensor...</td>\n",
       "    </tr>\n",
       "    <tr>\n",
       "      <th>4</th>\n",
       "      <td>4</td>\n",
       "      <td>[tensor(2), tensor(8278), tensor(4), tensor(35...</td>\n",
       "      <td>[tensor(2), tensor(7741), tensor(4503), tensor...</td>\n",
       "    </tr>\n",
       "  </tbody>\n",
       "</table>\n",
       "</div>"
      ],
      "text/plain": [
       "   Unnamed: 0                                        code_padded  \\\n",
       "0           0  [tensor(2), tensor(13998), tensor(4), tensor(5...   \n",
       "1           1  [tensor(2), tensor(13998), tensor(4), tensor(6...   \n",
       "2           2  [tensor(2), tensor(13998), tensor(4), tensor(1...   \n",
       "3           3  [tensor(2), tensor(8278), tensor(4), tensor(60...   \n",
       "4           4  [tensor(2), tensor(8278), tensor(4), tensor(35...   \n",
       "\n",
       "                                         desc_padded  \n",
       "0  [tensor(2), tensor(15427), tensor(302), tensor...  \n",
       "1  [tensor(2), tensor(15427), tensor(302), tensor...  \n",
       "2  [tensor(2), tensor(15427), tensor(97), tensor(...  \n",
       "3  [tensor(2), tensor(7741), tensor(3267), tensor...  \n",
       "4  [tensor(2), tensor(7741), tensor(4503), tensor...  "
      ]
     },
     "execution_count": 8,
     "metadata": {},
     "output_type": "execute_result"
    }
   ],
   "source": [
    "df.head(5)"
   ]
  },
  {
   "cell_type": "code",
   "execution_count": 9,
   "id": "63016292",
   "metadata": {},
   "outputs": [],
   "source": [
    "df[\"desc_padded\"] = df[\"desc_padded\"].apply(lambda x: torch.tensor(extract_tensor_ids(x)))\n",
    "df[\"code_padded\"] = df[\"code_padded\"].apply(lambda x: torch.tensor(extract_tensor_ids(x)))"
   ]
  },
  {
   "cell_type": "code",
   "execution_count": 10,
   "id": "ea4131af",
   "metadata": {},
   "outputs": [],
   "source": [
    "example_idx = 1250\n",
    "source_tensor = df.loc[example_idx, 'desc_padded'].unsqueeze(0)\n",
    "target_tensor = df.loc[example_idx, 'code_padded']"
   ]
  },
  {
   "cell_type": "code",
   "execution_count": 11,
   "id": "794ad01a",
   "metadata": {},
   "outputs": [
    {
     "name": "stdout",
     "output_type": "stream",
     "text": [
      "\n",
      "Example Sample:\n",
      "Source tensor: tensor([[   2,  749, 3202,   67,  127,  903, 1087, 3920,  749, 3202,   67,  903,\n",
      "         1087, 3920,    3,    0,    0,    0,    0,    0,    0,    0,    0,    0,\n",
      "            0,    0,    0,    0,    0,    0,    0,    0,    0,    0,    0,    0,\n",
      "            0,    0,    0,    0,    0,    0,    0,    0,    0,    0,    0,    0,\n",
      "            0,    0,    0,    0,    0,    0,    0,    0,    0,    0,    0,    0]])\n",
      "Target tensor: tensor([   2, 6670,    4,  276,    3])\n"
     ]
    }
   ],
   "source": [
    "print(\"\\nExample Sample:\")\n",
    "print(f\"Source tensor: {source_tensor}\")\n",
    "print(f\"Target tensor: {target_tensor}\")"
   ]
  },
  {
   "cell_type": "code",
   "execution_count": 12,
   "id": "40175586",
   "metadata": {},
   "outputs": [
    {
     "name": "stdout",
     "output_type": "stream",
     "text": [
      "Source   : malignant melanoma of left eyelid including canthus malignant melanoma of eyelid including canthus\n",
      "Target   : C43 . 12\n"
     ]
    }
   ],
   "source": [
    "print(f\"Source   : {decode_tokens(df.loc[example_idx, 'desc_padded'].tolist(), tokenizer)}\")\n",
    "print(f\"Target   : {decode_tokens(df.loc[example_idx, 'code_padded'].tolist(), tokenizer)}\")"
   ]
  },
  {
   "cell_type": "code",
   "execution_count": 13,
   "id": "92162836",
   "metadata": {},
   "outputs": [],
   "source": [
    "models_info = {\n",
    "    'RNN': '/home/careinfolab/Dr_Luo/Rohan/ICD_Codes/Results/Desc_to_ICD/RNN_first/checkpoints/best_model.pt',\n",
    "    'LSTM': '/home/careinfolab/Dr_Luo/Rohan/ICD_Codes/Results/Desc_to_ICD/LSTM_last/checkpoints/best_model.pt',\n",
    "    'GRU': '/home/careinfolab/Dr_Luo/Rohan/ICD_Codes/Results/Desc_to_ICD/GRU_last/checkpoints/best_model.pt',\n",
    "    'DeepRNN': '/home/careinfolab/Dr_Luo/Rohan/ICD_Codes/Results/Desc_to_ICD/DeepRNN/checkpoints/best_model.pt',\n",
    "    'DeepLSTM': '/home/careinfolab/Dr_Luo/Rohan/ICD_Codes/Results/Desc_to_ICD/DeepLSTM/checkpoints/best_model.pt',\n",
    "    'DeepGRU': '/home/careinfolab/Dr_Luo/Rohan/ICD_Codes/Results/Desc_to_ICD/DeepGRU/checkpoints/best_model.pt',\n",
    "    'BiRNN': '/home/careinfolab/Dr_Luo/Rohan/ICD_Codes/Results/Desc_to_ICD/BiRNN/checkpoints/best_model.pt',\n",
    "    'BiLSTM': '/home/careinfolab/Dr_Luo/Rohan/ICD_Codes/Results/Desc_to_ICD/BiLSTM/checkpoints/best_model.pt',\n",
    "    'BiGRU': '/home/careinfolab/Dr_Luo/Rohan/ICD_Codes/Results/Desc_to_ICD/BiGRU/checkpoints/best_model.pt'\n",
    "}"
   ]
  },
  {
   "cell_type": "code",
   "execution_count": 14,
   "id": "0c0ef6cc",
   "metadata": {},
   "outputs": [
    {
     "name": "stdout",
     "output_type": "stream",
     "text": [
      "\n",
      " Example:\n",
      "Source   : malignant melanoma of left eyelid including canthus malignant melanoma of eyelid including canthus\n",
      "Target   : C43 . 12\n",
      "\n",
      " Model Predictions:\n"
     ]
    },
    {
     "name": "stderr",
     "output_type": "stream",
     "text": [
      "/tmp/ipykernel_2644369/3186428091.py:2: FutureWarning: You are using `torch.load` with `weights_only=False` (the current default value), which uses the default pickle module implicitly. It is possible to construct malicious pickle data which will execute arbitrary code during unpickling (See https://github.com/pytorch/pytorch/blob/main/SECURITY.md#untrusted-models for more details). In a future release, the default value for `weights_only` will be flipped to `True`. This limits the functions that could be executed during unpickling. Arbitrary objects will no longer be allowed to be loaded via this mode unless they are explicitly allowlisted by the user via `torch.serialization.add_safe_globals`. We recommend you start setting `weights_only=True` for any use case where you don't have full control of the loaded file. Please open an issue on GitHub for any issues related to this experimental feature.\n",
      "  model = torch.load(pth_file, map_location=device)\n"
     ]
    },
    {
     "name": "stdout",
     "output_type": "stream",
     "text": [
      "RNN Predicted: C50 . 72\n",
      "LSTM Predicted: C43 . 12\n",
      "GRU Predicted: C43 . 12\n",
      "DeepRNN Predicted: I66 . 21\n",
      "DeepLSTM Predicted: C43 . 12\n",
      "DeepGRU Predicted: C43 . 12\n",
      "BiRNN Predicted: C43 . 12\n",
      "BiLSTM Predicted: C43 . 12\n",
      "BiGRU Predicted: C43 . 12\n"
     ]
    }
   ],
   "source": [
    "print(\"\\n Example:\")\n",
    "print(f\"Source   : {decode_tokens(df.loc[example_idx, 'desc_padded'].tolist(), tokenizer)}\")\n",
    "print(f\"Target   : {decode_tokens(df.loc[example_idx, 'code_padded'].tolist(), tokenizer)}\")\n",
    "\n",
    "print(\"\\n Model Predictions:\")\n",
    "for model_name, model_path in models_info.items():\n",
    "    model = load_seq_model(model_path)\n",
    "    if model_name in ['DeepRNN', 'LSTM', 'GRU', 'DeepLSTM', 'DeepGRU']:\n",
    "        pred_tokens = predict(model, source_tensor,target_tensor,pred=\"last\")\n",
    "    elif model_name in ['BiRNN', 'BiLSTM', 'BiGRU']:\n",
    "        pred_tokens = predict(model, source_tensor,target_tensor, pred=\"middle\")\n",
    "    else:\n",
    "        pred_tokens = predict(model, source_tensor,target_tensor, pred=\"first\")     \n",
    "    pred_tokens = clean_pred_tokens(pred_tokens)\n",
    "    pred_text = decode_tokens(pred_tokens, tokenizer)\n",
    "    print(f\"{model_name} Predicted: {pred_text}\")"
   ]
  },
  {
   "cell_type": "markdown",
   "id": "5b49d05b",
   "metadata": {},
   "source": [
    "# Transformer"
   ]
  },
  {
   "cell_type": "code",
   "execution_count": 16,
   "id": "e4f2feb9",
   "metadata": {},
   "outputs": [],
   "source": [
    "df = pd.read_csv('/home/careinfolab/Dr_Luo/Rohan/ICD_Codes/Dataset/icd10-codes-and-descriptions/Codes&Desc_cleaned.csv')"
   ]
  },
  {
   "cell_type": "code",
   "execution_count": 39,
   "id": "f77f3bef",
   "metadata": {},
   "outputs": [
    {
     "name": "stdout",
     "output_type": "stream",
     "text": [
      "Preprocessing and tokenizing dataset...\n"
     ]
    },
    {
     "name": "stderr",
     "output_type": "stream",
     "text": [
      "Tokenizing: 100%|██████████| 1/1 [00:00<00:00, 2880.70it/s]"
     ]
    },
    {
     "name": "stdout",
     "output_type": "stream",
     "text": [
      "Loaded 1 valid examples.\n",
      "Raw Tensors:\n",
      "Encoder Input IDs: tensor([    2,     2, 15427,   302,   136, 12988, 15428,   353, 15921, 19766,\n",
      "            3,     2,     2,     2,     2,     2,     2,     2,     2,     2,\n",
      "            2,     2,     2,     2,     2,     2,     2,     2,     2,     2,\n",
      "            2,     2,     2,     2,     2,     2,     2,     2,     2,     2,\n",
      "            2,     2,     2,     2,     2,     2,     2,     2,     2,     2,\n",
      "            2,     2,     2,     2,     2,     2,     2,     2,     2,     2,\n",
      "            2,     2,     2,     2,     2,     2,     2,     2,     2,     2,\n",
      "            2,     2,     2,     2,     2,     2,     2,     2,     2,     2,\n",
      "            2,     2,     2,     2,     2,     2,     2,     2,     2,     2,\n",
      "            2,     2,     2,     2,     2,     2,     2,     2,     2,     2,\n",
      "            2,     2,     2,     2,     2,     2,     2,     2,     2,     2,\n",
      "            2,     2,     2,     2,     2,     2,     2,     2,     2,     2,\n",
      "            2,     2,     2,     2,     2,     2,     2,     2])\n",
      "Decoder Input IDs: tensor([    2,     2, 13998,     4,     6,     3,     2,     2,     2,     2,\n",
      "            2,     2,     2,     2,     2,     2,     2,     2,     2,     2,\n",
      "            2,     2,     2,     2,     2,     2,     2,     2,     2,     2,\n",
      "            2,     2,     2,     2,     2,     2,     2,     2,     2,     2,\n",
      "            2,     2,     2,     2,     2,     2,     2,     2,     2,     2,\n",
      "            2,     2,     2,     2,     2,     2,     2,     2,     2,     2,\n",
      "            2,     2,     2,     2,     2,     2,     2,     2,     2,     2,\n",
      "            2,     2,     2,     2,     2,     2,     2,     2,     2,     2,\n",
      "            2,     2,     2,     2,     2,     2,     2,     2,     2,     2,\n",
      "            2,     2,     2,     2,     2,     2,     2,     2,     2,     2,\n",
      "            2,     2,     2,     2,     2,     2,     2,     2,     2,     2,\n",
      "            2,     2,     2,     2,     2,     2,     2,     2,     2,     2,\n",
      "            2,     2,     2,     2,     2,     2,     2,     2])\n",
      "Encoder Mask Shape: torch.Size([1, 1, 128])\n",
      "Decoder Mask Shape: torch.Size([1, 128, 128])\n",
      "Target Labels IDs: tensor([    2, 13998,     4,     6,     3,     2,     2,     2,     2,     2,\n",
      "            2,     2,     2,     2,     2,     2,     2,     2,     2,     2,\n",
      "            2,     2,     2,     2,     2,     2,     2,     2,     2,     2,\n",
      "            2,     2,     2,     2,     2,     2,     2,     2,     2,     2,\n",
      "            2,     2,     2,     2,     2,     2,     2,     2,     2,     2,\n",
      "            2,     2,     2,     2,     2,     2,     2,     2,     2,     2,\n",
      "            2,     2,     2,     2,     2,     2,     2,     2,     2,     2,\n",
      "            2,     2,     2,     2,     2,     2,     2,     2,     2,     2,\n",
      "            2,     2,     2,     2,     2,     2,     2,     2,     2,     2,\n",
      "            2,     2,     2,     2,     2,     2,     2,     2,     2,     2,\n",
      "            2,     2,     2,     2,     2,     2,     2,     2,     2,     2,\n",
      "            2,     2,     2,     2,     2,     2,     2,     2,     2,     2,\n",
      "            2,     2,     2,     2,     2,     2,     2,     2])\n",
      "\n",
      "Text Decoding:\n",
      "Source Text: cholera due to vibrio cholerae 01 biovar eltor\n",
      "Target Text: A00.1\n",
      "\n",
      "Decoded Encoder Text (input to model): [SOS] [SOS] cholera due to vibrio cholerae 01 biovar eltor [EOS] [SOS] [SOS] [SOS] [SOS] [SOS] [SOS] [SOS] [SOS] [SOS] [SOS] [SOS] [SOS] [SOS] [SOS] [SOS] [SOS] [SOS] [SOS] [SOS] [SOS] [SOS] [SOS] [SOS] [SOS] [SOS] [SOS] [SOS] [SOS] [SOS] [SOS] [SOS] [SOS] [SOS] [SOS] [SOS] [SOS] [SOS] [SOS] [SOS] [SOS] [SOS] [SOS] [SOS] [SOS] [SOS] [SOS] [SOS] [SOS] [SOS] [SOS] [SOS] [SOS] [SOS] [SOS] [SOS] [SOS] [SOS] [SOS] [SOS] [SOS] [SOS] [SOS] [SOS] [SOS] [SOS] [SOS] [SOS] [SOS] [SOS] [SOS] [SOS] [SOS] [SOS] [SOS] [SOS] [SOS] [SOS] [SOS] [SOS] [SOS] [SOS] [SOS] [SOS] [SOS] [SOS] [SOS] [SOS] [SOS] [SOS] [SOS] [SOS] [SOS] [SOS] [SOS] [SOS] [SOS] [SOS] [SOS] [SOS] [SOS] [SOS] [SOS] [SOS] [SOS] [SOS] [SOS] [SOS] [SOS] [SOS] [SOS] [SOS] [SOS] [SOS] [SOS] [SOS] [SOS] [SOS]\n",
      "Decoded Decoder Text (input to model decoder): [SOS] [SOS] A00 . 1 [EOS] [SOS] [SOS] [SOS] [SOS] [SOS] [SOS] [SOS] [SOS] [SOS] [SOS] [SOS] [SOS] [SOS] [SOS] [SOS] [SOS] [SOS] [SOS] [SOS] [SOS] [SOS] [SOS] [SOS] [SOS] [SOS] [SOS] [SOS] [SOS] [SOS] [SOS] [SOS] [SOS] [SOS] [SOS] [SOS] [SOS] [SOS] [SOS] [SOS] [SOS] [SOS] [SOS] [SOS] [SOS] [SOS] [SOS] [SOS] [SOS] [SOS] [SOS] [SOS] [SOS] [SOS] [SOS] [SOS] [SOS] [SOS] [SOS] [SOS] [SOS] [SOS] [SOS] [SOS] [SOS] [SOS] [SOS] [SOS] [SOS] [SOS] [SOS] [SOS] [SOS] [SOS] [SOS] [SOS] [SOS] [SOS] [SOS] [SOS] [SOS] [SOS] [SOS] [SOS] [SOS] [SOS] [SOS] [SOS] [SOS] [SOS] [SOS] [SOS] [SOS] [SOS] [SOS] [SOS] [SOS] [SOS] [SOS] [SOS] [SOS] [SOS] [SOS] [SOS] [SOS] [SOS] [SOS] [SOS] [SOS] [SOS] [SOS] [SOS] [SOS] [SOS] [SOS] [SOS] [SOS] [SOS] [SOS] [SOS] [SOS] [SOS] [SOS]\n",
      "Decoded Target Text (true labels): [SOS] A00 . 1 [EOS] [SOS] [SOS] [SOS] [SOS] [SOS] [SOS] [SOS] [SOS] [SOS] [SOS] [SOS] [SOS] [SOS] [SOS] [SOS] [SOS] [SOS] [SOS] [SOS] [SOS] [SOS] [SOS] [SOS] [SOS] [SOS] [SOS] [SOS] [SOS] [SOS] [SOS] [SOS] [SOS] [SOS] [SOS] [SOS] [SOS] [SOS] [SOS] [SOS] [SOS] [SOS] [SOS] [SOS] [SOS] [SOS] [SOS] [SOS] [SOS] [SOS] [SOS] [SOS] [SOS] [SOS] [SOS] [SOS] [SOS] [SOS] [SOS] [SOS] [SOS] [SOS] [SOS] [SOS] [SOS] [SOS] [SOS] [SOS] [SOS] [SOS] [SOS] [SOS] [SOS] [SOS] [SOS] [SOS] [SOS] [SOS] [SOS] [SOS] [SOS] [SOS] [SOS] [SOS] [SOS] [SOS] [SOS] [SOS] [SOS] [SOS] [SOS] [SOS] [SOS] [SOS] [SOS] [SOS] [SOS] [SOS] [SOS] [SOS] [SOS] [SOS] [SOS] [SOS] [SOS] [SOS] [SOS] [SOS] [SOS] [SOS] [SOS] [SOS] [SOS] [SOS] [SOS] [SOS] [SOS] [SOS] [SOS] [SOS] [SOS] [SOS] [SOS] [SOS]\n"
     ]
    },
    {
     "name": "stderr",
     "output_type": "stream",
     "text": [
      "\n"
     ]
    }
   ],
   "source": [
    "single_df = df.iloc[[1]]  \n",
    "\n",
    "single_dataset = TransformerDataset(single_df, tokenizer, 'Description', 'ICD_Code', seq_len=128)\n",
    "\n",
    "sample = single_dataset[0]\n",
    "\n",
    "encoder_input = sample['encoder_input']\n",
    "decoder_input = sample['decoder_input']\n",
    "encoder_mask = sample['encoder_mask']\n",
    "decoder_mask = sample['decoder_mask']\n",
    "label = sample['label']\n",
    "src_text = sample['src_text']\n",
    "tgt_text = sample['tgt_text']\n",
    "\n",
    "print(\"Raw Tensors:\")\n",
    "print(f\"Encoder Input IDs: {encoder_input}\")\n",
    "print(f\"Decoder Input IDs: {decoder_input}\")\n",
    "print(f\"Encoder Mask Shape: {encoder_mask.shape}\")\n",
    "print(f\"Decoder Mask Shape: {decoder_mask.shape}\")\n",
    "print(f\"Target Labels IDs: {label}\")\n",
    "\n",
    "print(\"\\nText Decoding:\")\n",
    "encoder_text = tokenizer.decode(encoder_input.tolist(), skip_special_tokens=False)\n",
    "decoder_text = tokenizer.decode(decoder_input.tolist(), skip_special_tokens=False)\n",
    "target_text = tokenizer.decode(label.tolist(), skip_special_tokens=False)\n",
    "\n",
    "print(f\"Source Text: {src_text}\")\n",
    "print(f\"Target Text: {tgt_text}\")\n",
    "\n",
    "print(f\"\\nDecoded Encoder Text (input to model): {encoder_text}\")\n",
    "print(f\"Decoded Decoder Text (input to model decoder): {decoder_text}\")\n",
    "print(f\"Decoded Target Text (true labels): {target_text}\")\n",
    "\n"
   ]
  },
  {
   "cell_type": "code",
   "execution_count": 40,
   "id": "15a4854c",
   "metadata": {},
   "outputs": [],
   "source": [
    "def predict_transformer(model, sample, tokenizer):\n",
    "    model.eval()\n",
    "    encoder_input = sample['encoder_input'].unsqueeze(0).to(device)\n",
    "    encoder_mask = sample['encoder_mask'].to(device)\n",
    "    pad_token_id = tokenizer.token_to_id(\"[PAD]\")\n",
    "    sos_token_id = tokenizer.token_to_id(\"[SOS]\")\n",
    "    eos_token_id = tokenizer.token_to_id(\"[EOS]\")\n",
    "    decoder_input = torch.tensor([[sos_token_id]], device=device)\n",
    "    generated_tokens = []\n",
    "    target_tokens = sample['label']\n",
    "    max_len = target_tokens.size(0) if target_tokens is not None else encoder_input.size(1)\n",
    "    for _ in range(max_len):\n",
    "        tgt_mask = (decoder_input != pad_token_id).unsqueeze(0).int() & causal_mask(decoder_input.size(1)).to(device)\n",
    "        with torch.no_grad():\n",
    "            encoder_output = model.encode(encoder_input, encoder_mask)\n",
    "            decoder_output = model.decode(encoder_output, encoder_mask, decoder_input, tgt_mask)\n",
    "            proj_output = model.project(decoder_output)\n",
    "        next_token_logits = proj_output[:, -1, :]  \n",
    "        next_token = next_token_logits.argmax(dim=-1) \n",
    "        if next_token.item() == eos_token_id:\n",
    "            break\n",
    "        generated_tokens.append(next_token.item())\n",
    "        decoder_input = torch.cat([decoder_input, next_token.unsqueeze(0)], dim=1)\n",
    "    return generated_tokens"
   ]
  },
  {
   "cell_type": "code",
   "execution_count": 41,
   "id": "d8eeebc7",
   "metadata": {},
   "outputs": [
    {
     "name": "stderr",
     "output_type": "stream",
     "text": [
      "/tmp/ipykernel_2644369/191130192.py:1: FutureWarning: You are using `torch.load` with `weights_only=False` (the current default value), which uses the default pickle module implicitly. It is possible to construct malicious pickle data which will execute arbitrary code during unpickling (See https://github.com/pytorch/pytorch/blob/main/SECURITY.md#untrusted-models for more details). In a future release, the default value for `weights_only` will be flipped to `True`. This limits the functions that could be executed during unpickling. Arbitrary objects will no longer be allowed to be loaded via this mode unless they are explicitly allowlisted by the user via `torch.serialization.add_safe_globals`. We recommend you start setting `weights_only=True` for any use case where you don't have full control of the loaded file. Please open an issue on GitHub for any issues related to this experimental feature.\n",
      "  model = torch.load('/home/careinfolab/Dr_Luo/Rohan/ICD_Codes/Results/Desc_to_ICD/Transformer/checkpoints/best_model.pt', map_location=device)\n"
     ]
    },
    {
     "data": {
      "text/plain": [
       "Transformer(\n",
       "  (encoder): Encoder(\n",
       "    (layers): ModuleList(\n",
       "      (0-3): 4 x EncoderBlock(\n",
       "        (self_attn): MultiHeadAttentionBlock(\n",
       "          (w_q): Linear(in_features=128, out_features=128, bias=False)\n",
       "          (w_k): Linear(in_features=128, out_features=128, bias=False)\n",
       "          (w_v): Linear(in_features=128, out_features=128, bias=False)\n",
       "          (w_o): Linear(in_features=128, out_features=128, bias=False)\n",
       "          (dropout): Dropout(p=0.23262214988255547, inplace=False)\n",
       "        )\n",
       "        (ff): FeedForwardBlock(\n",
       "          (linear_1): Linear(in_features=128, out_features=2048, bias=True)\n",
       "          (dropout): Dropout(p=0.23262214988255547, inplace=False)\n",
       "          (linear_2): Linear(in_features=2048, out_features=128, bias=True)\n",
       "        )\n",
       "        (res_conns): ModuleList(\n",
       "          (0-1): 2 x ResidualConnection(\n",
       "            (dropout): Dropout(p=0.23262214988255547, inplace=False)\n",
       "            (norm): LayerNormalization()\n",
       "          )\n",
       "        )\n",
       "      )\n",
       "    )\n",
       "    (norm): LayerNormalization()\n",
       "  )\n",
       "  (decoder): Decoder(\n",
       "    (layers): ModuleList(\n",
       "      (0-3): 4 x DecoderBlock(\n",
       "        (self_attn): MultiHeadAttentionBlock(\n",
       "          (w_q): Linear(in_features=128, out_features=128, bias=False)\n",
       "          (w_k): Linear(in_features=128, out_features=128, bias=False)\n",
       "          (w_v): Linear(in_features=128, out_features=128, bias=False)\n",
       "          (w_o): Linear(in_features=128, out_features=128, bias=False)\n",
       "          (dropout): Dropout(p=0.23262214988255547, inplace=False)\n",
       "        )\n",
       "        (cross_attn): MultiHeadAttentionBlock(\n",
       "          (w_q): Linear(in_features=128, out_features=128, bias=False)\n",
       "          (w_k): Linear(in_features=128, out_features=128, bias=False)\n",
       "          (w_v): Linear(in_features=128, out_features=128, bias=False)\n",
       "          (w_o): Linear(in_features=128, out_features=128, bias=False)\n",
       "          (dropout): Dropout(p=0.23262214988255547, inplace=False)\n",
       "        )\n",
       "        (ff): FeedForwardBlock(\n",
       "          (linear_1): Linear(in_features=128, out_features=2048, bias=True)\n",
       "          (dropout): Dropout(p=0.23262214988255547, inplace=False)\n",
       "          (linear_2): Linear(in_features=2048, out_features=128, bias=True)\n",
       "        )\n",
       "        (res_conns): ModuleList(\n",
       "          (0-2): 3 x ResidualConnection(\n",
       "            (dropout): Dropout(p=0.23262214988255547, inplace=False)\n",
       "            (norm): LayerNormalization()\n",
       "          )\n",
       "        )\n",
       "      )\n",
       "    )\n",
       "    (norm): LayerNormalization()\n",
       "  )\n",
       "  (src_embed): InputEmbeddings(\n",
       "    (embedding): Embedding(25932, 128)\n",
       "  )\n",
       "  (tgt_embed): InputEmbeddings(\n",
       "    (embedding): Embedding(25932, 128)\n",
       "  )\n",
       "  (src_pos): PositionalEncoding(\n",
       "    (dropout): Dropout(p=0.23262214988255547, inplace=False)\n",
       "  )\n",
       "  (tgt_pos): PositionalEncoding(\n",
       "    (dropout): Dropout(p=0.23262214988255547, inplace=False)\n",
       "  )\n",
       "  (proj): ProjectionLayer(\n",
       "    (proj): Linear(in_features=128, out_features=25932, bias=True)\n",
       "  )\n",
       ")"
      ]
     },
     "execution_count": 41,
     "metadata": {},
     "output_type": "execute_result"
    }
   ],
   "source": [
    "model = torch.load('/home/careinfolab/Dr_Luo/Rohan/ICD_Codes/Results/Desc_to_ICD/Transformer/checkpoints/best_model.pt', map_location=device) \n",
    "model.to(device)\n",
    "model.eval()"
   ]
  },
  {
   "cell_type": "code",
   "execution_count": 42,
   "id": "e48fd812",
   "metadata": {},
   "outputs": [
    {
     "name": "stdout",
     "output_type": "stream",
     "text": [
      "\n",
      "Example:\n",
      "Source: cholera due to vibrio cholerae 01 biovar eltor\n",
      "Target: A00 . 1\n",
      "Prediction : A00 . 1\n"
     ]
    }
   ],
   "source": [
    "encoder_input = sample['encoder_input']\n",
    "target_tokens = sample['label']\n",
    "\n",
    "print(\"\\nExample:\")\n",
    "source_text = tokenizer.decode(encoder_input.tolist(), skip_special_tokens=True)\n",
    "print(\"Source:\", source_text)\n",
    "target_text = tokenizer.decode(target_tokens.tolist(), skip_special_tokens=True)\n",
    "print(\"Target:\", target_text)\n",
    "pred_tokens = predict_transformer(model, sample, tokenizer)\n",
    "pred_text = tokenizer.decode(pred_tokens, skip_special_tokens=True)\n",
    "print(f\"Prediction : {pred_text}\")"
   ]
  },
  {
   "cell_type": "code",
   "execution_count": null,
   "id": "8a7de345",
   "metadata": {},
   "outputs": [],
   "source": []
  },
  {
   "cell_type": "code",
   "execution_count": null,
   "id": "557a921c",
   "metadata": {},
   "outputs": [],
   "source": []
  },
  {
   "cell_type": "code",
   "execution_count": null,
   "id": "9150f383",
   "metadata": {},
   "outputs": [],
   "source": []
  }
 ],
 "metadata": {
  "kernelspec": {
   "display_name": "rohanj",
   "language": "python",
   "name": "python3"
  },
  "language_info": {
   "codemirror_mode": {
    "name": "ipython",
    "version": 3
   },
   "file_extension": ".py",
   "mimetype": "text/x-python",
   "name": "python",
   "nbconvert_exporter": "python",
   "pygments_lexer": "ipython3",
   "version": "3.8.10"
  }
 },
 "nbformat": 4,
 "nbformat_minor": 5
}

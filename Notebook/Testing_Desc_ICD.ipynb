{
 "cells": [
  {
   "cell_type": "code",
   "execution_count": 1,
   "id": "3815bfe2",
   "metadata": {},
   "outputs": [],
   "source": [
    "import torch\n",
    "import sys\n",
    "sys.path.append('/home/careinfolab/Dr_Luo/Rohan/ICD_Codes')  \n",
    "from Model_rnn import *\n",
    "from tokenizers import Tokenizer\n",
    "import pandas as pd\n",
    "from utils import *"
   ]
  },
  {
   "cell_type": "code",
   "execution_count": 2,
   "id": "df266a67",
   "metadata": {},
   "outputs": [],
   "source": [
    "device = 'cuda' if torch.cuda.is_available() else 'cpu'"
   ]
  },
  {
   "cell_type": "code",
   "execution_count": 3,
   "id": "097eda48",
   "metadata": {},
   "outputs": [],
   "source": [
    "def load_seq_model(pth_file):\n",
    "    model = torch.load(pth_file, map_location=device) \n",
    "    model.eval()\n",
    "    return model"
   ]
  },
  {
   "cell_type": "code",
   "execution_count": 4,
   "id": "1c69308b",
   "metadata": {},
   "outputs": [],
   "source": [
    "def decode_tokens(tokens, tokenizer):\n",
    "    return tokenizer.decode(tokens, skip_special_tokens=True)"
   ]
  },
  {
   "cell_type": "code",
   "execution_count": 5,
   "id": "4b427f8d",
   "metadata": {},
   "outputs": [],
   "source": [
    "def predict(model, input_tensor,target_tensor, pred=\"full\"):\n",
    "    model.eval()\n",
    "    hidden = model.rnn.init_zero_hidden(1)\n",
    "    input_tensor = input_tensor.to(device)\n",
    "\n",
    "    if isinstance(hidden, (list, tuple)):\n",
    "        hidden = tuple(h.to(device) for h in hidden)\n",
    "    else:\n",
    "        hidden = hidden.to(device)\n",
    "\n",
    "    with torch.no_grad():\n",
    "        outputs = model(input_tensor, hidden)\n",
    "\n",
    "    min_len = target_tensor.size(0)\n",
    "    if pred.lower() == 'first':\n",
    "        pred_logits = outputs[:, :min_len, :]\n",
    "    elif pred.lower() == 'middle':\n",
    "        mid = min_len // 2\n",
    "        start = mid - 1\n",
    "        end = mid + 2\n",
    "        pred_logits = outputs[:, start:end, :]\n",
    "    elif pred.lower() == 'last':\n",
    "        pred_logits = outputs[:, -min_len:, :]\n",
    "    elif pred.lower() == 'full':\n",
    "        pred_logits = outputs\n",
    "    else:\n",
    "        raise ValueError(\"Invalid pred type. Choose from: first, middle, last, full\")\n",
    "\n",
    "    preds = pred_logits.argmax(dim=2)\n",
    "    return preds.squeeze(0).cpu().tolist()\n"
   ]
  },
  {
   "cell_type": "code",
   "execution_count": 6,
   "id": "032e2eb4",
   "metadata": {},
   "outputs": [],
   "source": [
    "def clean_pred_tokens(tokens):\n",
    "    return [t for t in tokens if t != 0]"
   ]
  },
  {
   "cell_type": "code",
   "execution_count": 7,
   "id": "3d0b8ef9",
   "metadata": {},
   "outputs": [],
   "source": [
    "df = pd.read_csv('/home/careinfolab/Dr_Luo/Rohan/ICD_Codes/Dataset/icd10-codes-and-descriptions/Tokens.csv')\n",
    "tokenizer = Tokenizer.from_file('/home/careinfolab/Dr_Luo/Rohan/ICD_Codes/Notebook/bpe_tokenizer.json')"
   ]
  },
  {
   "cell_type": "code",
   "execution_count": 8,
   "id": "e300a9a0",
   "metadata": {},
   "outputs": [
    {
     "data": {
      "text/html": [
       "<div>\n",
       "<style scoped>\n",
       "    .dataframe tbody tr th:only-of-type {\n",
       "        vertical-align: middle;\n",
       "    }\n",
       "\n",
       "    .dataframe tbody tr th {\n",
       "        vertical-align: top;\n",
       "    }\n",
       "\n",
       "    .dataframe thead th {\n",
       "        text-align: right;\n",
       "    }\n",
       "</style>\n",
       "<table border=\"1\" class=\"dataframe\">\n",
       "  <thead>\n",
       "    <tr style=\"text-align: right;\">\n",
       "      <th></th>\n",
       "      <th>Unnamed: 0</th>\n",
       "      <th>code_padded</th>\n",
       "      <th>desc_padded</th>\n",
       "    </tr>\n",
       "  </thead>\n",
       "  <tbody>\n",
       "    <tr>\n",
       "      <th>0</th>\n",
       "      <td>0</td>\n",
       "      <td>[tensor(2), tensor(13998), tensor(4), tensor(5...</td>\n",
       "      <td>[tensor(2), tensor(15427), tensor(302), tensor...</td>\n",
       "    </tr>\n",
       "    <tr>\n",
       "      <th>1</th>\n",
       "      <td>1</td>\n",
       "      <td>[tensor(2), tensor(13998), tensor(4), tensor(6...</td>\n",
       "      <td>[tensor(2), tensor(15427), tensor(302), tensor...</td>\n",
       "    </tr>\n",
       "    <tr>\n",
       "      <th>2</th>\n",
       "      <td>2</td>\n",
       "      <td>[tensor(2), tensor(13998), tensor(4), tensor(1...</td>\n",
       "      <td>[tensor(2), tensor(15427), tensor(97), tensor(...</td>\n",
       "    </tr>\n",
       "    <tr>\n",
       "      <th>3</th>\n",
       "      <td>3</td>\n",
       "      <td>[tensor(2), tensor(8278), tensor(4), tensor(60...</td>\n",
       "      <td>[tensor(2), tensor(7741), tensor(3267), tensor...</td>\n",
       "    </tr>\n",
       "    <tr>\n",
       "      <th>4</th>\n",
       "      <td>4</td>\n",
       "      <td>[tensor(2), tensor(8278), tensor(4), tensor(35...</td>\n",
       "      <td>[tensor(2), tensor(7741), tensor(4503), tensor...</td>\n",
       "    </tr>\n",
       "  </tbody>\n",
       "</table>\n",
       "</div>"
      ],
      "text/plain": [
       "   Unnamed: 0                                        code_padded  \\\n",
       "0           0  [tensor(2), tensor(13998), tensor(4), tensor(5...   \n",
       "1           1  [tensor(2), tensor(13998), tensor(4), tensor(6...   \n",
       "2           2  [tensor(2), tensor(13998), tensor(4), tensor(1...   \n",
       "3           3  [tensor(2), tensor(8278), tensor(4), tensor(60...   \n",
       "4           4  [tensor(2), tensor(8278), tensor(4), tensor(35...   \n",
       "\n",
       "                                         desc_padded  \n",
       "0  [tensor(2), tensor(15427), tensor(302), tensor...  \n",
       "1  [tensor(2), tensor(15427), tensor(302), tensor...  \n",
       "2  [tensor(2), tensor(15427), tensor(97), tensor(...  \n",
       "3  [tensor(2), tensor(7741), tensor(3267), tensor...  \n",
       "4  [tensor(2), tensor(7741), tensor(4503), tensor...  "
      ]
     },
     "execution_count": 8,
     "metadata": {},
     "output_type": "execute_result"
    }
   ],
   "source": [
    "df.head(5)"
   ]
  },
  {
   "cell_type": "code",
   "execution_count": 9,
   "id": "63016292",
   "metadata": {},
   "outputs": [],
   "source": [
    "df[\"desc_padded\"] = df[\"desc_padded\"].apply(lambda x: torch.tensor(extract_tensor_ids(x)))\n",
    "df[\"code_padded\"] = df[\"code_padded\"].apply(lambda x: torch.tensor(extract_tensor_ids(x)))"
   ]
  },
  {
   "cell_type": "code",
   "execution_count": 10,
   "id": "ea4131af",
   "metadata": {},
   "outputs": [],
   "source": [
    "example_idx = 1250\n",
    "source_tensor = df.loc[example_idx, 'desc_padded'].unsqueeze(0)\n",
    "target_tensor = df.loc[example_idx, 'code_padded']"
   ]
  },
  {
   "cell_type": "code",
   "execution_count": 11,
   "id": "794ad01a",
   "metadata": {},
   "outputs": [
    {
     "name": "stdout",
     "output_type": "stream",
     "text": [
      "\n",
      "Example Sample:\n",
      "Source tensor: tensor([[   2,  749, 3202,   67,  127,  903, 1087, 3920,  749, 3202,   67,  903,\n",
      "         1087, 3920,    3,    0,    0,    0,    0,    0,    0,    0,    0,    0,\n",
      "            0,    0,    0,    0,    0,    0,    0,    0,    0,    0,    0,    0,\n",
      "            0,    0,    0,    0,    0,    0,    0,    0,    0,    0,    0,    0,\n",
      "            0,    0,    0,    0,    0,    0,    0,    0,    0,    0,    0,    0]])\n",
      "Target tensor: tensor([   2, 6670,    4,  276,    3])\n"
     ]
    }
   ],
   "source": [
    "print(\"\\nExample Sample:\")\n",
    "print(f\"Source tensor: {source_tensor}\")\n",
    "print(f\"Target tensor: {target_tensor}\")"
   ]
  },
  {
   "cell_type": "code",
   "execution_count": 12,
   "id": "40175586",
   "metadata": {},
   "outputs": [
    {
     "name": "stdout",
     "output_type": "stream",
     "text": [
      "Source   : malignant melanoma of left eyelid including canthus malignant melanoma of eyelid including canthus\n",
      "Target   : C43 . 12\n"
     ]
    }
   ],
   "source": [
    "print(f\"Source   : {decode_tokens(df.loc[example_idx, 'desc_padded'].tolist(), tokenizer)}\")\n",
    "print(f\"Target   : {decode_tokens(df.loc[example_idx, 'code_padded'].tolist(), tokenizer)}\")"
   ]
  },
  {
   "cell_type": "code",
   "execution_count": 13,
   "id": "92162836",
   "metadata": {},
   "outputs": [],
   "source": [
    "models_info = {\n",
    "    'RNN': '/home/careinfolab/Dr_Luo/Rohan/ICD_Codes/Results/Desc_to_ICD/RNN_first/checkpoints/best_model.pt',\n",
    "    'LSTM': '/home/careinfolab/Dr_Luo/Rohan/ICD_Codes/Results/Desc_to_ICD/LSTM_last/checkpoints/best_model.pt',\n",
    "    'GRU': '/home/careinfolab/Dr_Luo/Rohan/ICD_Codes/Results/Desc_to_ICD/GRU_last/checkpoints/best_model.pt',\n",
    "    'DeepRNN': '/home/careinfolab/Dr_Luo/Rohan/ICD_Codes/Results/Desc_to_ICD/DeepRNN/checkpoints/best_model.pt',\n",
    "    'DeepLSTM': '/home/careinfolab/Dr_Luo/Rohan/ICD_Codes/Results/Desc_to_ICD/DeepLSTM/checkpoints/best_model.pt',\n",
    "    'DeepGRU': '/home/careinfolab/Dr_Luo/Rohan/ICD_Codes/Results/Desc_to_ICD/DeepGRU/checkpoints/best_model.pt',\n",
    "    'BiRNN': '/home/careinfolab/Dr_Luo/Rohan/ICD_Codes/Results/Desc_to_ICD/BiRNN/checkpoints/best_model.pt',\n",
    "    'BiLSTM': '/home/careinfolab/Dr_Luo/Rohan/ICD_Codes/Results/Desc_to_ICD/BiLSTM/checkpoints/best_model.pt',\n",
    "    'BiGRU': '/home/careinfolab/Dr_Luo/Rohan/ICD_Codes/Results/Desc_to_ICD/BiGRU/checkpoints/best_model.pt'\n",
    "}"
   ]
  },
  {
   "cell_type": "code",
   "execution_count": 14,
   "id": "0c0ef6cc",
   "metadata": {},
   "outputs": [
    {
     "name": "stdout",
     "output_type": "stream",
     "text": [
      "\n",
      " Example:\n",
      "Source   : malignant melanoma of left eyelid including canthus malignant melanoma of eyelid including canthus\n",
      "Target   : C43 . 12\n",
      "\n",
      " Model Predictions:\n"
     ]
    },
    {
     "name": "stderr",
     "output_type": "stream",
     "text": [
      "/tmp/ipykernel_1189464/3186428091.py:2: FutureWarning: You are using `torch.load` with `weights_only=False` (the current default value), which uses the default pickle module implicitly. It is possible to construct malicious pickle data which will execute arbitrary code during unpickling (See https://github.com/pytorch/pytorch/blob/main/SECURITY.md#untrusted-models for more details). In a future release, the default value for `weights_only` will be flipped to `True`. This limits the functions that could be executed during unpickling. Arbitrary objects will no longer be allowed to be loaded via this mode unless they are explicitly allowlisted by the user via `torch.serialization.add_safe_globals`. We recommend you start setting `weights_only=True` for any use case where you don't have full control of the loaded file. Please open an issue on GitHub for any issues related to this experimental feature.\n",
      "  model = torch.load(pth_file, map_location=device)\n"
     ]
    },
    {
     "name": "stdout",
     "output_type": "stream",
     "text": [
      "RNN Predicted: C50 . 72\n",
      "LSTM Predicted: C43 . 12\n",
      "GRU Predicted: C43 . 12\n",
      "DeepRNN Predicted: P07 . 12\n",
      "DeepLSTM Predicted: C43 . 12\n",
      "DeepGRU Predicted: C43 . 12\n",
      "BiRNN Predicted: C43 . 12\n",
      "BiLSTM Predicted: C43 . 12\n",
      "BiGRU Predicted: C43 . 12\n"
     ]
    }
   ],
   "source": [
    "print(\"\\n Example:\")\n",
    "print(f\"Source   : {decode_tokens(df.loc[example_idx, 'desc_padded'].tolist(), tokenizer)}\")\n",
    "print(f\"Target   : {decode_tokens(df.loc[example_idx, 'code_padded'].tolist(), tokenizer)}\")\n",
    "\n",
    "print(\"\\n Model Predictions:\")\n",
    "for model_name, model_path in models_info.items():\n",
    "    model = load_seq_model(model_path)\n",
    "    if model_name in ['DeepRNN', 'LSTM', 'GRU', 'DeepLSTM', 'DeepGRU']:\n",
    "        pred_tokens = predict(model, source_tensor,target_tensor,pred=\"last\")\n",
    "    elif model_name in ['BiRNN', 'BiLSTM', 'BiGRU']:\n",
    "        pred_tokens = predict(model, source_tensor,target_tensor, pred=\"middle\")\n",
    "    else:\n",
    "        pred_tokens = predict(model, source_tensor,target_tensor, pred=\"first\")     \n",
    "    pred_tokens = clean_pred_tokens(pred_tokens)\n",
    "    pred_text = decode_tokens(pred_tokens, tokenizer)\n",
    "    print(f\"{model_name} Predicted: {pred_text}\")"
   ]
  },
  {
   "cell_type": "code",
   "execution_count": null,
   "id": "350c0af1",
   "metadata": {},
   "outputs": [],
   "source": []
  }
 ],
 "metadata": {
  "kernelspec": {
   "display_name": "rohanj",
   "language": "python",
   "name": "python3"
  },
  "language_info": {
   "codemirror_mode": {
    "name": "ipython",
    "version": 3
   },
   "file_extension": ".py",
   "mimetype": "text/x-python",
   "name": "python",
   "nbconvert_exporter": "python",
   "pygments_lexer": "ipython3",
   "version": "3.8.10"
  }
 },
 "nbformat": 4,
 "nbformat_minor": 5
}
